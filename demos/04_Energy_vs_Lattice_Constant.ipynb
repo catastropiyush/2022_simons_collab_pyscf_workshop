{
  "cells": [
    {
      "cell_type": "markdown",
      "metadata": {
        "id": "view-in-github",
        "colab_type": "text"
      },
      "source": [
        "<a href=\"https://colab.research.google.com/github/catastropiyush/2022_simons_collab_pyscf_workshop/blob/main/demos/04_Energy_vs_Lattice_Constant.ipynb\" target=\"_parent\"><img src=\"https://colab.research.google.com/assets/colab-badge.svg\" alt=\"Open In Colab\"/></a>"
      ]
    },
    {
      "cell_type": "markdown",
      "metadata": {
        "id": "dvXtTHDXuJXA"
      },
      "source": [
        "<a href=\"https://colab.research.google.com/github/jamesETsmith/2022_simons_collab_pyscf_workshop/blob/main/demos/04_Energy_vs_Lattice_Constant.ipynb\" target=\"_parent\"><img src=\"https://colab.research.google.com/assets/colab-badge.svg\" alt=\"Open In Colab\"/></a>"
      ]
    },
    {
      "cell_type": "markdown",
      "metadata": {
        "id": "f-l5yUEuuJXE"
      },
      "source": [
        "# Setting up the Jupyter notebook\n",
        "\n",
        "* We need to install a few things before we get started\n",
        "  * [PySCF](https://pyscf.org/) for the quantum chemsitry\n",
        "  * [NumPy](https://numpy.org/) for manipulating arrays\n",
        "  * [pandas](https://pandas.pydata.org/) for manipulating table data\n",
        "  * [plotly](https://plotly.com/python/) for plotting\n",
        "  * [SciPy](https://scipy.org/) for curve fitting"
      ]
    },
    {
      "cell_type": "code",
      "execution_count": 1,
      "metadata": {
        "id": "KldHxjALuJXE",
        "outputId": "6f9575c2-ce95-4fa1-fad1-31d2bccba916",
        "colab": {
          "base_uri": "https://localhost:8080/"
        }
      },
      "outputs": [
        {
          "output_type": "stream",
          "name": "stdout",
          "text": [
            "\u001b[2K   \u001b[90m━━━━━━━━━━━━━━━━━━━━━━━━━━━━━━━━━━━━━━━━\u001b[0m \u001b[32m15.2/15.2 MB\u001b[0m \u001b[31m49.4 MB/s\u001b[0m eta \u001b[36m0:00:00\u001b[0m\n",
            "\u001b[2K   \u001b[90m━━━━━━━━━━━━━━━━━━━━━━━━━━━━━━━━━━━━━━━━\u001b[0m \u001b[32m50.9/50.9 MB\u001b[0m \u001b[31m9.4 MB/s\u001b[0m eta \u001b[36m0:00:00\u001b[0m\n",
            "\u001b[?25h"
          ]
        }
      ],
      "source": [
        "%pip install -q numpy pyscf plotly==5.8.0 scipy pandas"
      ]
    },
    {
      "cell_type": "markdown",
      "metadata": {
        "id": "ZOTkpyD4uJXG"
      },
      "source": [
        "# Structural Properties of Materials\n",
        "\n",
        "Here, we investigate structural properties of solid Si, in particular the equilibrium lattice parameter, bulk modulus and cohesive energy.\n",
        "\n",
        "We run our calculations at various lattice parameters. Then we plot the energy vs volume per atom curve and fit the Birch-Murnaghan equation which gives us these properties, e.g. see https://en.wikipedia.org/wiki/Birch%E2%80%93Murnaghan_equation_of_state ."
      ]
    },
    {
      "cell_type": "code",
      "execution_count": 2,
      "metadata": {
        "id": "vNmTbeI4uJXG"
      },
      "outputs": [],
      "source": [
        "import numpy as np\n",
        "import pandas as pd\n",
        "import plotly.express\n",
        "import plotly.graph_objects\n",
        "from scipy.optimize import curve_fit\n",
        "from pyscf.pbc import gto, scf # note the pyscf.pbc for solid calculations"
      ]
    },
    {
      "cell_type": "markdown",
      "metadata": {
        "id": "4J42ItZauJXH"
      },
      "source": [
        "## Calculations of FCC Si at various lattice parameters\n",
        "We use the calculation set-up from the last notebook, using FCC Si in a gth-dzvp basis, at a 333 **k** point mesh, with DFT LDA. Note that this is not enough for production calculations as the basis set, finite size and methods errors have not eliminated here."
      ]
    },
    {
      "cell_type": "code",
      "execution_count": 3,
      "metadata": {
        "id": "MAKKMG9QuJXH"
      },
      "outputs": [],
      "source": [
        "def get_fcc_si_cell(latt_param):\n",
        "    # Setting up primitive face centered cubic (FCC) cell\n",
        "    cell_lattice = 0.5*latt_param*np.asarray([[1.0, 0.0, 1.0],\n",
        "                                              [1.0, 1.0, 0.0],\n",
        "                                              [0.0, 1.0, 1.0]])\n",
        "    qlp = latt_param*0.25\n",
        "    cell_xyz = f\"\"\"Si        0.00000    0.00000   0.00000\n",
        "                   Si        {qlp}      {qlp}     {qlp}\"\"\"\n",
        "    cell = gto.Cell(a=cell_lattice, atom=cell_xyz, basis=\"gth-dzvp\", pseudo=\"gth-pade\", verbose=2)\n",
        "    cell.build()\n",
        "    return cell"
      ]
    },
    {
      "cell_type": "code",
      "execution_count": 4,
      "metadata": {
        "id": "LI-88v33uJXI",
        "outputId": "f958229f-9f51-47aa-8b4c-b7264df31149",
        "colab": {
          "base_uri": "https://localhost:8080/"
        }
      },
      "outputs": [
        {
          "output_type": "stream",
          "name": "stderr",
          "text": [
            "WARNING!\n",
            "  Very diffused basis functions are found in the basis set. They may lead to severe\n",
            "  linear dependence and numerical instability.  You can set  cell.exp_to_discard=0.1\n",
            "  to remove the diffused Gaussians whose exponents are less than 0.1.\n",
            "\n"
          ]
        },
        {
          "output_type": "stream",
          "name": "stdout",
          "text": [
            "5.52 -7.5267894472187\n"
          ]
        },
        {
          "output_type": "stream",
          "name": "stderr",
          "text": [
            "WARNING!\n",
            "  Very diffused basis functions are found in the basis set. They may lead to severe\n",
            "  linear dependence and numerical instability.  You can set  cell.exp_to_discard=0.1\n",
            "  to remove the diffused Gaussians whose exponents are less than 0.1.\n",
            "\n"
          ]
        },
        {
          "output_type": "stream",
          "name": "stdout",
          "text": [
            "5.53 -7.526870647172146\n"
          ]
        },
        {
          "output_type": "stream",
          "name": "stderr",
          "text": [
            "WARNING!\n",
            "  Very diffused basis functions are found in the basis set. They may lead to severe\n",
            "  linear dependence and numerical instability.  You can set  cell.exp_to_discard=0.1\n",
            "  to remove the diffused Gaussians whose exponents are less than 0.1.\n",
            "\n"
          ]
        },
        {
          "output_type": "stream",
          "name": "stdout",
          "text": [
            "5.54 -7.5269281263244485\n"
          ]
        },
        {
          "output_type": "stream",
          "name": "stderr",
          "text": [
            "WARNING!\n",
            "  Very diffused basis functions are found in the basis set. They may lead to severe\n",
            "  linear dependence and numerical instability.  You can set  cell.exp_to_discard=0.1\n",
            "  to remove the diffused Gaussians whose exponents are less than 0.1.\n",
            "\n"
          ]
        },
        {
          "output_type": "stream",
          "name": "stdout",
          "text": [
            "5.55 -7.526962299411608\n"
          ]
        },
        {
          "output_type": "stream",
          "name": "stderr",
          "text": [
            "WARNING!\n",
            "  Very diffused basis functions are found in the basis set. They may lead to severe\n",
            "  linear dependence and numerical instability.  You can set  cell.exp_to_discard=0.1\n",
            "  to remove the diffused Gaussians whose exponents are less than 0.1.\n",
            "\n"
          ]
        },
        {
          "output_type": "stream",
          "name": "stdout",
          "text": [
            "5.56 -7.526973576164985\n"
          ]
        },
        {
          "output_type": "stream",
          "name": "stderr",
          "text": [
            "WARNING!\n",
            "  Very diffused basis functions are found in the basis set. They may lead to severe\n",
            "  linear dependence and numerical instability.  You can set  cell.exp_to_discard=0.1\n",
            "  to remove the diffused Gaussians whose exponents are less than 0.1.\n",
            "\n"
          ]
        },
        {
          "output_type": "stream",
          "name": "stdout",
          "text": [
            "5.57 -7.526962361366411\n"
          ]
        },
        {
          "output_type": "stream",
          "name": "stderr",
          "text": [
            "WARNING!\n",
            "  Very diffused basis functions are found in the basis set. They may lead to severe\n",
            "  linear dependence and numerical instability.  You can set  cell.exp_to_discard=0.1\n",
            "  to remove the diffused Gaussians whose exponents are less than 0.1.\n",
            "\n"
          ]
        },
        {
          "output_type": "stream",
          "name": "stdout",
          "text": [
            "5.58 -7.52692905489963\n"
          ]
        },
        {
          "output_type": "stream",
          "name": "stderr",
          "text": [
            "WARNING!\n",
            "  Very diffused basis functions are found in the basis set. They may lead to severe\n",
            "  linear dependence and numerical instability.  You can set  cell.exp_to_discard=0.1\n",
            "  to remove the diffused Gaussians whose exponents are less than 0.1.\n",
            "\n"
          ]
        },
        {
          "output_type": "stream",
          "name": "stdout",
          "text": [
            "5.59 -7.526874051798782\n"
          ]
        },
        {
          "output_type": "stream",
          "name": "stderr",
          "text": [
            "WARNING!\n",
            "  Very diffused basis functions are found in the basis set. They may lead to severe\n",
            "  linear dependence and numerical instability.  You can set  cell.exp_to_discard=0.1\n",
            "  to remove the diffused Gaussians whose exponents are less than 0.1.\n",
            "\n"
          ]
        },
        {
          "output_type": "stream",
          "name": "stdout",
          "text": [
            "5.6 -7.526797742296893\n",
            "done!\n"
          ]
        }
      ],
      "source": [
        "lda_es = []\n",
        "k = 3  # Using a 333 k point mesh.\n",
        "n = 9  # 9 data points\n",
        "latt_params = [np.round(5.56 - (n//2)*0.01 + 0.01*i,2) for i in range(n)]\n",
        "for latt_param in latt_params:\n",
        "    cell = get_fcc_si_cell(latt_param)\n",
        "    mykmf = scf.KRKS(cell, cell.make_kpts([k,k,k]), xc=\"lda\").run()\n",
        "    lda_es.append(mykmf.e_tot)\n",
        "    print(latt_param, mykmf.e_tot)\n",
        "print(\"done!\")"
      ]
    },
    {
      "cell_type": "markdown",
      "metadata": {
        "id": "2wM_LIi4uJXJ"
      },
      "source": [
        "## Plotting and Fitting"
      ]
    },
    {
      "cell_type": "code",
      "execution_count": 5,
      "metadata": {
        "id": "D9WVvpy-uJXJ",
        "outputId": "90a97994-822f-4152-ce4e-c871526efe78",
        "colab": {
          "base_uri": "https://localhost:8080/",
          "height": 542
        }
      },
      "outputs": [
        {
          "output_type": "display_data",
          "data": {
            "text/html": [
              "<html>\n",
              "<head><meta charset=\"utf-8\" /></head>\n",
              "<body>\n",
              "    <div>            <script src=\"https://cdnjs.cloudflare.com/ajax/libs/mathjax/2.7.5/MathJax.js?config=TeX-AMS-MML_SVG\"></script><script type=\"text/javascript\">if (window.MathJax && window.MathJax.Hub && && window.MathJax.Hub.Config) {window.MathJax.Hub.Config({SVG: {font: \"STIX-Web\"}});}</script>                <script type=\"text/javascript\">window.PlotlyConfig = {MathJaxConfig: 'local'};</script>\n",
              "        <script src=\"https://cdn.plot.ly/plotly-2.12.1.min.js\"></script>                <div id=\"29ec534c-f447-44db-9dbb-b7986ffba167\" class=\"plotly-graph-div\" style=\"height:525px; width:100%;\"></div>            <script type=\"text/javascript\">                                    window.PLOTLYENV=window.PLOTLYENV || {};                                    if (document.getElementById(\"29ec534c-f447-44db-9dbb-b7986ffba167\")) {                    Plotly.newPlot(                        \"29ec534c-f447-44db-9dbb-b7986ffba167\",                        [{\"hovertemplate\":\"x=%{x}<br>y=%{y}<extra></extra>\",\"legendgroup\":\"\",\"line\":{\"color\":\"#636efa\",\"dash\":\"solid\"},\"marker\":{\"symbol\":\"circle\",\"size\":12},\"mode\":\"lines+markers\",\"name\":\"\",\"orientation\":\"v\",\"showlegend\":false,\"x\":[42.04915199999999,42.27809425,42.507866,42.738468749999996,42.96990399999999,43.20217325000001,43.435278000000004,43.669219749999996,43.90399999999999],\"xaxis\":\"x\",\"y\":[-3.76339472360935,-3.763435323586073,-3.7634640631622243,-3.763481149705804,-3.7634867880824925,-3.7634811806832054,-3.763464527449815,-3.763437025899391,-3.7633988711484463],\"yaxis\":\"y\",\"type\":\"scatter\"}],                        {\"template\":{\"data\":{\"histogram2dcontour\":[{\"type\":\"histogram2dcontour\",\"colorbar\":{\"outlinewidth\":0,\"ticks\":\"\"},\"colorscale\":[[0.0,\"#0d0887\"],[0.1111111111111111,\"#46039f\"],[0.2222222222222222,\"#7201a8\"],[0.3333333333333333,\"#9c179e\"],[0.4444444444444444,\"#bd3786\"],[0.5555555555555556,\"#d8576b\"],[0.6666666666666666,\"#ed7953\"],[0.7777777777777778,\"#fb9f3a\"],[0.8888888888888888,\"#fdca26\"],[1.0,\"#f0f921\"]]}],\"choropleth\":[{\"type\":\"choropleth\",\"colorbar\":{\"outlinewidth\":0,\"ticks\":\"\"}}],\"histogram2d\":[{\"type\":\"histogram2d\",\"colorbar\":{\"outlinewidth\":0,\"ticks\":\"\"},\"colorscale\":[[0.0,\"#0d0887\"],[0.1111111111111111,\"#46039f\"],[0.2222222222222222,\"#7201a8\"],[0.3333333333333333,\"#9c179e\"],[0.4444444444444444,\"#bd3786\"],[0.5555555555555556,\"#d8576b\"],[0.6666666666666666,\"#ed7953\"],[0.7777777777777778,\"#fb9f3a\"],[0.8888888888888888,\"#fdca26\"],[1.0,\"#f0f921\"]]}],\"heatmap\":[{\"type\":\"heatmap\",\"colorbar\":{\"outlinewidth\":0,\"ticks\":\"\"},\"colorscale\":[[0.0,\"#0d0887\"],[0.1111111111111111,\"#46039f\"],[0.2222222222222222,\"#7201a8\"],[0.3333333333333333,\"#9c179e\"],[0.4444444444444444,\"#bd3786\"],[0.5555555555555556,\"#d8576b\"],[0.6666666666666666,\"#ed7953\"],[0.7777777777777778,\"#fb9f3a\"],[0.8888888888888888,\"#fdca26\"],[1.0,\"#f0f921\"]]}],\"heatmapgl\":[{\"type\":\"heatmapgl\",\"colorbar\":{\"outlinewidth\":0,\"ticks\":\"\"},\"colorscale\":[[0.0,\"#0d0887\"],[0.1111111111111111,\"#46039f\"],[0.2222222222222222,\"#7201a8\"],[0.3333333333333333,\"#9c179e\"],[0.4444444444444444,\"#bd3786\"],[0.5555555555555556,\"#d8576b\"],[0.6666666666666666,\"#ed7953\"],[0.7777777777777778,\"#fb9f3a\"],[0.8888888888888888,\"#fdca26\"],[1.0,\"#f0f921\"]]}],\"contourcarpet\":[{\"type\":\"contourcarpet\",\"colorbar\":{\"outlinewidth\":0,\"ticks\":\"\"}}],\"contour\":[{\"type\":\"contour\",\"colorbar\":{\"outlinewidth\":0,\"ticks\":\"\"},\"colorscale\":[[0.0,\"#0d0887\"],[0.1111111111111111,\"#46039f\"],[0.2222222222222222,\"#7201a8\"],[0.3333333333333333,\"#9c179e\"],[0.4444444444444444,\"#bd3786\"],[0.5555555555555556,\"#d8576b\"],[0.6666666666666666,\"#ed7953\"],[0.7777777777777778,\"#fb9f3a\"],[0.8888888888888888,\"#fdca26\"],[1.0,\"#f0f921\"]]}],\"surface\":[{\"type\":\"surface\",\"colorbar\":{\"outlinewidth\":0,\"ticks\":\"\"},\"colorscale\":[[0.0,\"#0d0887\"],[0.1111111111111111,\"#46039f\"],[0.2222222222222222,\"#7201a8\"],[0.3333333333333333,\"#9c179e\"],[0.4444444444444444,\"#bd3786\"],[0.5555555555555556,\"#d8576b\"],[0.6666666666666666,\"#ed7953\"],[0.7777777777777778,\"#fb9f3a\"],[0.8888888888888888,\"#fdca26\"],[1.0,\"#f0f921\"]]}],\"mesh3d\":[{\"type\":\"mesh3d\",\"colorbar\":{\"outlinewidth\":0,\"ticks\":\"\"}}],\"scatter\":[{\"fillpattern\":{\"fillmode\":\"overlay\",\"size\":10,\"solidity\":0.2},\"type\":\"scatter\"}],\"parcoords\":[{\"type\":\"parcoords\",\"line\":{\"colorbar\":{\"outlinewidth\":0,\"ticks\":\"\"}}}],\"scatterpolargl\":[{\"type\":\"scatterpolargl\",\"marker\":{\"colorbar\":{\"outlinewidth\":0,\"ticks\":\"\"}}}],\"bar\":[{\"error_x\":{\"color\":\"#2a3f5f\"},\"error_y\":{\"color\":\"#2a3f5f\"},\"marker\":{\"line\":{\"color\":\"#E5ECF6\",\"width\":0.5},\"pattern\":{\"fillmode\":\"overlay\",\"size\":10,\"solidity\":0.2}},\"type\":\"bar\"}],\"scattergeo\":[{\"type\":\"scattergeo\",\"marker\":{\"colorbar\":{\"outlinewidth\":0,\"ticks\":\"\"}}}],\"scatterpolar\":[{\"type\":\"scatterpolar\",\"marker\":{\"colorbar\":{\"outlinewidth\":0,\"ticks\":\"\"}}}],\"histogram\":[{\"marker\":{\"pattern\":{\"fillmode\":\"overlay\",\"size\":10,\"solidity\":0.2}},\"type\":\"histogram\"}],\"scattergl\":[{\"type\":\"scattergl\",\"marker\":{\"colorbar\":{\"outlinewidth\":0,\"ticks\":\"\"}}}],\"scatter3d\":[{\"type\":\"scatter3d\",\"line\":{\"colorbar\":{\"outlinewidth\":0,\"ticks\":\"\"}},\"marker\":{\"colorbar\":{\"outlinewidth\":0,\"ticks\":\"\"}}}],\"scattermapbox\":[{\"type\":\"scattermapbox\",\"marker\":{\"colorbar\":{\"outlinewidth\":0,\"ticks\":\"\"}}}],\"scatterternary\":[{\"type\":\"scatterternary\",\"marker\":{\"colorbar\":{\"outlinewidth\":0,\"ticks\":\"\"}}}],\"scattercarpet\":[{\"type\":\"scattercarpet\",\"marker\":{\"colorbar\":{\"outlinewidth\":0,\"ticks\":\"\"}}}],\"carpet\":[{\"aaxis\":{\"endlinecolor\":\"#2a3f5f\",\"gridcolor\":\"white\",\"linecolor\":\"white\",\"minorgridcolor\":\"white\",\"startlinecolor\":\"#2a3f5f\"},\"baxis\":{\"endlinecolor\":\"#2a3f5f\",\"gridcolor\":\"white\",\"linecolor\":\"white\",\"minorgridcolor\":\"white\",\"startlinecolor\":\"#2a3f5f\"},\"type\":\"carpet\"}],\"table\":[{\"cells\":{\"fill\":{\"color\":\"#EBF0F8\"},\"line\":{\"color\":\"white\"}},\"header\":{\"fill\":{\"color\":\"#C8D4E3\"},\"line\":{\"color\":\"white\"}},\"type\":\"table\"}],\"barpolar\":[{\"marker\":{\"line\":{\"color\":\"#E5ECF6\",\"width\":0.5},\"pattern\":{\"fillmode\":\"overlay\",\"size\":10,\"solidity\":0.2}},\"type\":\"barpolar\"}],\"pie\":[{\"automargin\":true,\"type\":\"pie\"}]},\"layout\":{\"autotypenumbers\":\"strict\",\"colorway\":[\"#636efa\",\"#EF553B\",\"#00cc96\",\"#ab63fa\",\"#FFA15A\",\"#19d3f3\",\"#FF6692\",\"#B6E880\",\"#FF97FF\",\"#FECB52\"],\"font\":{\"color\":\"#2a3f5f\"},\"hovermode\":\"closest\",\"hoverlabel\":{\"align\":\"left\"},\"paper_bgcolor\":\"white\",\"plot_bgcolor\":\"#E5ECF6\",\"polar\":{\"bgcolor\":\"#E5ECF6\",\"angularaxis\":{\"gridcolor\":\"white\",\"linecolor\":\"white\",\"ticks\":\"\"},\"radialaxis\":{\"gridcolor\":\"white\",\"linecolor\":\"white\",\"ticks\":\"\"}},\"ternary\":{\"bgcolor\":\"#E5ECF6\",\"aaxis\":{\"gridcolor\":\"white\",\"linecolor\":\"white\",\"ticks\":\"\"},\"baxis\":{\"gridcolor\":\"white\",\"linecolor\":\"white\",\"ticks\":\"\"},\"caxis\":{\"gridcolor\":\"white\",\"linecolor\":\"white\",\"ticks\":\"\"}},\"coloraxis\":{\"colorbar\":{\"outlinewidth\":0,\"ticks\":\"\"}},\"colorscale\":{\"sequential\":[[0.0,\"#0d0887\"],[0.1111111111111111,\"#46039f\"],[0.2222222222222222,\"#7201a8\"],[0.3333333333333333,\"#9c179e\"],[0.4444444444444444,\"#bd3786\"],[0.5555555555555556,\"#d8576b\"],[0.6666666666666666,\"#ed7953\"],[0.7777777777777778,\"#fb9f3a\"],[0.8888888888888888,\"#fdca26\"],[1.0,\"#f0f921\"]],\"sequentialminus\":[[0.0,\"#0d0887\"],[0.1111111111111111,\"#46039f\"],[0.2222222222222222,\"#7201a8\"],[0.3333333333333333,\"#9c179e\"],[0.4444444444444444,\"#bd3786\"],[0.5555555555555556,\"#d8576b\"],[0.6666666666666666,\"#ed7953\"],[0.7777777777777778,\"#fb9f3a\"],[0.8888888888888888,\"#fdca26\"],[1.0,\"#f0f921\"]],\"diverging\":[[0,\"#8e0152\"],[0.1,\"#c51b7d\"],[0.2,\"#de77ae\"],[0.3,\"#f1b6da\"],[0.4,\"#fde0ef\"],[0.5,\"#f7f7f7\"],[0.6,\"#e6f5d0\"],[0.7,\"#b8e186\"],[0.8,\"#7fbc41\"],[0.9,\"#4d9221\"],[1,\"#276419\"]]},\"xaxis\":{\"gridcolor\":\"white\",\"linecolor\":\"white\",\"ticks\":\"\",\"title\":{\"standoff\":15},\"zerolinecolor\":\"white\",\"automargin\":true,\"zerolinewidth\":2},\"yaxis\":{\"gridcolor\":\"white\",\"linecolor\":\"white\",\"ticks\":\"\",\"title\":{\"standoff\":15},\"zerolinecolor\":\"white\",\"automargin\":true,\"zerolinewidth\":2},\"scene\":{\"xaxis\":{\"backgroundcolor\":\"#E5ECF6\",\"gridcolor\":\"white\",\"linecolor\":\"white\",\"showbackground\":true,\"ticks\":\"\",\"zerolinecolor\":\"white\",\"gridwidth\":2},\"yaxis\":{\"backgroundcolor\":\"#E5ECF6\",\"gridcolor\":\"white\",\"linecolor\":\"white\",\"showbackground\":true,\"ticks\":\"\",\"zerolinecolor\":\"white\",\"gridwidth\":2},\"zaxis\":{\"backgroundcolor\":\"#E5ECF6\",\"gridcolor\":\"white\",\"linecolor\":\"white\",\"showbackground\":true,\"ticks\":\"\",\"zerolinecolor\":\"white\",\"gridwidth\":2}},\"shapedefaults\":{\"line\":{\"color\":\"#2a3f5f\"}},\"annotationdefaults\":{\"arrowcolor\":\"#2a3f5f\",\"arrowhead\":0,\"arrowwidth\":1},\"geo\":{\"bgcolor\":\"white\",\"landcolor\":\"#E5ECF6\",\"subunitcolor\":\"white\",\"showland\":true,\"showlakes\":true,\"lakecolor\":\"white\"},\"title\":{\"x\":0.05},\"mapbox\":{\"style\":\"light\"}}},\"xaxis\":{\"anchor\":\"y\",\"domain\":[0.0,1.0],\"title\":{\"text\":\"Volume per Si/Ang^3\"}},\"yaxis\":{\"anchor\":\"x\",\"domain\":[0.0,1.0],\"title\":{\"text\":\"Energy per Si/ha\"}},\"legend\":{\"tracegroupgap\":0},\"title\":{\"text\":\"Binding Curve\"}},                        {\"responsive\": true}                    ).then(function(){\n",
              "                            \n",
              "var gd = document.getElementById('29ec534c-f447-44db-9dbb-b7986ffba167');\n",
              "var x = new MutationObserver(function (mutations, observer) {{\n",
              "        var display = window.getComputedStyle(gd).display;\n",
              "        if (!display || display === 'none') {{\n",
              "            console.log([gd, 'removed!']);\n",
              "            Plotly.purge(gd);\n",
              "            observer.disconnect();\n",
              "        }}\n",
              "}});\n",
              "\n",
              "// Listen for the removal of the full notebook cells\n",
              "var notebookContainer = gd.closest('#notebook-container');\n",
              "if (notebookContainer) {{\n",
              "    x.observe(notebookContainer, {childList: true});\n",
              "}}\n",
              "\n",
              "// Listen for the clearing of the current output cell\n",
              "var outputEl = gd.closest('.output');\n",
              "if (outputEl) {{\n",
              "    x.observe(outputEl, {childList: true});\n",
              "}}\n",
              "\n",
              "                        })                };                            </script>        </div>\n",
              "</body>\n",
              "</html>"
            ]
          },
          "metadata": {}
        }
      ],
      "source": [
        "# Collect data\n",
        "# Volume per Si atom. This is latt_params^3/4, as there are four Si atoms in a cubic unit cell of sides latt_param.\n",
        "v_si = [latt_param**3/4.0 for latt_param in latt_params]\n",
        "energies_si = np.asarray(lda_es)/2.0 # Energy per Si atom. There were two Si atoms in our primitive unit cell.\n",
        "# Plotting\n",
        "fig = plotly.express.line(x=v_si, y=energies_si, title=\"Binding Curve\", markers=True)\n",
        "fig.update_layout(xaxis_title=\"Volume per Si/Ang^3\", yaxis_title=\"Energy per Si/ha\")\n",
        "fig.update_traces(marker_size=12)\n",
        "#fig.update_xaxes(range=[0.0, 1.01])\n",
        "fig.show() # It's interactive!"
      ]
    },
    {
      "cell_type": "markdown",
      "metadata": {
        "id": "Ah5b4p5-uJXJ"
      },
      "source": [
        "Looks like the minimum is close to our middle data point, at 5.56 ang. Now, we fit the Birch-Murnaghan equation."
      ]
    },
    {
      "cell_type": "code",
      "execution_count": 6,
      "metadata": {
        "id": "xH5c0e0WuJXK"
      },
      "outputs": [],
      "source": [
        "def birch_murnaghan_fit(x, e, v, b, bdash):\n",
        "    return (e + (9.0/16.0)*v*b*((((v/x)**(2.0/3.0) - 1.0)**3)*bdash +\n",
        "                                (((v/x)**(2.0/3.0) - 1.0)**2)*(6.0 - 4.0*((v/x)**(2.0/3.0)))))"
      ]
    },
    {
      "cell_type": "code",
      "execution_count": 7,
      "metadata": {
        "id": "Ivdy1jtquJXK",
        "outputId": "f372406d-b7d3-442d-b8de-23fc9ab6be92",
        "colab": {
          "base_uri": "https://localhost:8080/"
        }
      },
      "outputs": [
        {
          "output_type": "stream",
          "name": "stdout",
          "text": [
            "Min energy per Si -3.76349 ha\n",
            "Equilibrium volume per Si 42.96953 ang^3, which is at lattice parameter 5.56 ang.\n",
            "Bulk Modulus is 0.00899 ha/ang^3, which is 39.19 GPa\n"
          ]
        }
      ],
      "source": [
        "init_guess = [energies_si[n//2], v_si[n//2], 1, 1]\n",
        "opt_params, _ = curve_fit(birch_murnaghan_fit, v_si, energies_si, p0=init_guess)\n",
        "print(\"Min energy per Si\", np.round(opt_params[0],5), \"ha\")\n",
        "print(\"Equilibrium volume per Si\", np.round(opt_params[1],5), \"ang^3, which is at lattice parameter\",\n",
        "      np.round((4.0*opt_params[1])**(1.0/3.0),3), \"ang.\")\n",
        "# See https://en.wikipedia.org/wiki/Hartree for unit convertion (ha to J, and then J/ang to Pa)\n",
        "print(\"Bulk Modulus is\", np.round(opt_params[2],5), \"ha/ang^3, which is\", np.round(opt_params[2]*4.3597447*10**3,2), \"GPa\")"
      ]
    },
    {
      "cell_type": "markdown",
      "metadata": {
        "id": "chM9qBiJuJXK"
      },
      "source": [
        "The first parameter is the energy (which is not meaningful) at the minimum which is given as -3.76349 ha by the fit.\n",
        "The equilibrium lattice parameter is at 5.56 ang, consistent with our previous observation.\n",
        "The bulk modulus is about 39 GPa."
      ]
    },
    {
      "cell_type": "code",
      "execution_count": 8,
      "metadata": {
        "id": "jkSeTk17uJXL",
        "outputId": "b9d64302-c995-462b-8d72-d70ddb59b7cf",
        "colab": {
          "base_uri": "https://localhost:8080/",
          "height": 542
        }
      },
      "outputs": [
        {
          "output_type": "display_data",
          "data": {
            "text/html": [
              "<html>\n",
              "<head><meta charset=\"utf-8\" /></head>\n",
              "<body>\n",
              "    <div>            <script src=\"https://cdnjs.cloudflare.com/ajax/libs/mathjax/2.7.5/MathJax.js?config=TeX-AMS-MML_SVG\"></script><script type=\"text/javascript\">if (window.MathJax && window.MathJax.Hub && && window.MathJax.Hub.Config) {window.MathJax.Hub.Config({SVG: {font: \"STIX-Web\"}});}</script>                <script type=\"text/javascript\">window.PlotlyConfig = {MathJaxConfig: 'local'};</script>\n",
              "        <script src=\"https://cdn.plot.ly/plotly-2.12.1.min.js\"></script>                <div id=\"67a8d76b-dc51-4355-9b85-741acb1c5680\" class=\"plotly-graph-div\" style=\"height:525px; width:100%;\"></div>            <script type=\"text/javascript\">                                    window.PLOTLYENV=window.PLOTLYENV || {};                                    if (document.getElementById(\"67a8d76b-dc51-4355-9b85-741acb1c5680\")) {                    Plotly.newPlot(                        \"67a8d76b-dc51-4355-9b85-741acb1c5680\",                        [{\"mode\":\"markers\",\"name\":\"LDA Data\",\"x\":[42.04915199999999,42.27809425,42.507866,42.738468749999996,42.96990399999999,43.20217325000001,43.435278000000004,43.669219749999996,43.90399999999999],\"y\":[-3.76339472360935,-3.763435323586073,-3.7634640631622243,-3.763481149705804,-3.7634867880824925,-3.7634811806832054,-3.763464527449815,-3.763437025899391,-3.7633988711484463],\"type\":\"scatter\",\"marker\":{\"size\":12}},{\"mode\":\"lines\",\"name\":\"Fit\",\"x\":[42.0,42.001,42.002,42.003,42.004,42.005,42.006,42.007,42.008,42.009,42.01,42.011,42.012,42.013,42.014,42.015,42.016,42.017,42.018,42.019,42.02,42.021,42.022,42.023,42.024,42.025,42.026,42.027,42.028,42.029,42.03,42.031,42.032,42.033,42.034,42.035,42.036,42.037,42.038,42.039,42.04,42.041,42.042,42.043,42.044,42.045,42.046,42.047,42.048,42.049,42.05,42.051,42.052,42.053,42.054,42.055,42.056,42.057,42.058,42.059,42.06,42.061,42.062,42.063,42.064,42.065,42.066,42.067,42.068,42.069,42.07,42.071,42.072,42.073,42.074,42.075,42.076,42.077,42.078,42.079,42.08,42.081,42.082,42.083,42.084,42.085,42.086,42.087,42.088,42.089,42.09,42.091,42.092,42.093,42.094,42.095,42.096,42.097,42.098,42.099,42.1,42.101,42.102,42.103,42.104,42.105,42.106,42.107,42.108,42.109,42.11,42.111,42.112,42.113,42.114,42.115,42.116,42.117,42.118,42.119,42.12,42.121,42.122,42.123,42.124,42.125,42.126,42.127,42.128,42.129,42.13,42.131,42.132,42.133,42.134,42.135,42.136,42.137,42.138,42.139,42.14,42.141,42.142,42.143,42.144,42.145,42.146,42.147,42.148,42.149,42.15,42.151,42.152,42.153,42.154,42.155,42.156,42.157,42.158,42.159,42.16,42.161,42.162,42.163,42.164,42.165,42.166,42.167,42.168,42.169,42.17,42.171,42.172,42.173,42.174,42.175,42.176,42.177,42.178,42.179,42.18,42.181,42.182,42.183,42.184,42.185,42.186,42.187,42.188,42.189,42.19,42.191,42.192,42.193,42.194,42.195,42.196,42.197,42.198,42.199,42.2,42.201,42.202,42.203,42.204,42.205,42.206,42.207,42.208,42.209,42.21,42.211,42.212,42.213,42.214,42.215,42.216,42.217,42.218,42.219,42.22,42.221,42.222,42.223,42.224,42.225,42.226,42.227,42.228,42.229,42.23,42.231,42.232,42.233,42.234,42.235,42.236,42.237,42.238,42.239,42.24,42.241,42.242,42.243,42.244,42.245,42.246,42.247,42.248,42.249,42.25,42.251,42.252,42.253,42.254,42.255,42.256,42.257,42.258,42.259,42.26,42.261,42.262,42.263,42.264,42.265,42.266,42.267,42.268,42.269,42.27,42.271,42.272,42.273,42.274,42.275,42.276,42.277,42.278,42.279,42.28,42.281,42.282,42.283,42.284,42.285,42.286,42.287,42.288,42.289,42.29,42.291,42.292,42.293,42.294,42.295,42.296,42.297,42.298,42.299,42.3,42.301,42.302,42.303,42.304,42.305,42.306,42.307,42.308,42.309,42.31,42.311,42.312,42.313,42.314,42.315,42.316,42.317,42.318,42.319,42.32,42.321,42.322,42.323,42.324,42.325,42.326,42.327,42.328,42.329,42.33,42.331,42.332,42.333,42.334,42.335,42.336,42.337,42.338,42.339,42.34,42.341,42.342,42.343,42.344,42.345,42.346,42.347,42.348,42.349,42.35,42.351,42.352,42.353,42.354,42.355,42.356,42.357,42.358,42.359,42.36,42.361,42.362,42.363,42.364,42.365,42.366,42.367,42.368,42.369,42.37,42.371,42.372,42.373,42.374,42.375,42.376,42.377,42.378,42.379,42.38,42.381,42.382,42.383,42.384,42.385,42.386,42.387,42.388,42.389,42.39,42.391,42.392,42.393,42.394,42.395,42.396,42.397,42.398,42.399,42.4,42.401,42.402,42.403,42.404,42.405,42.406,42.407,42.408,42.409,42.41,42.411,42.412,42.413,42.414,42.415,42.416,42.417,42.418,42.419,42.42,42.421,42.422,42.423,42.424,42.425,42.426,42.427,42.428,42.429,42.43,42.431,42.432,42.433,42.434,42.435,42.436,42.437,42.438,42.439,42.44,42.441,42.442,42.443,42.444,42.445,42.446,42.447,42.448,42.449,42.45,42.451,42.452,42.453,42.454,42.455,42.456,42.457,42.458,42.459,42.46,42.461,42.462,42.463,42.464,42.465,42.466,42.467,42.468,42.469,42.47,42.471,42.472,42.473,42.474,42.475,42.476,42.477,42.478,42.479,42.48,42.481,42.482,42.483,42.484,42.485,42.486,42.487,42.488,42.489,42.49,42.491,42.492,42.493,42.494,42.495,42.496,42.497,42.498,42.499,42.5,42.501,42.502,42.503,42.504,42.505,42.506,42.507,42.508,42.509,42.51,42.511,42.512,42.513,42.514,42.515,42.516,42.517,42.518,42.519,42.52,42.521,42.522,42.523,42.524,42.525,42.526,42.527,42.528,42.529,42.53,42.531,42.532,42.533,42.534,42.535,42.536,42.537,42.538,42.539,42.54,42.541,42.542,42.543,42.544,42.545,42.546,42.547,42.548,42.549,42.55,42.551,42.552,42.553,42.554,42.555,42.556,42.557,42.558,42.559,42.56,42.561,42.562,42.563,42.564,42.565,42.566,42.567,42.568,42.569,42.57,42.571,42.572,42.573,42.574,42.575,42.576,42.577,42.578,42.579,42.58,42.581,42.582,42.583,42.584,42.585,42.586,42.587,42.588,42.589,42.59,42.591,42.592,42.593,42.594,42.595,42.596,42.597,42.598,42.599,42.6,42.601,42.602,42.603,42.604,42.605,42.606,42.607,42.608,42.609,42.61,42.611,42.612,42.613,42.614,42.615,42.616,42.617,42.618,42.619,42.62,42.621,42.622,42.623,42.624,42.625,42.626,42.627,42.628,42.629,42.63,42.631,42.632,42.633,42.634,42.635,42.636,42.637,42.638,42.639,42.64,42.641,42.642,42.643,42.644,42.645,42.646,42.647,42.648,42.649,42.65,42.651,42.652,42.653,42.654,42.655,42.656,42.657,42.658,42.659,42.66,42.661,42.662,42.663,42.664,42.665,42.666,42.667,42.668,42.669,42.67,42.671,42.672,42.673,42.674,42.675,42.676,42.677,42.678,42.679,42.68,42.681,42.682,42.683,42.684,42.685,42.686,42.687,42.688,42.689,42.69,42.691,42.692,42.693,42.694,42.695,42.696,42.697,42.698,42.699,42.7,42.701,42.702,42.703,42.704,42.705,42.706,42.707,42.708,42.709,42.71,42.711,42.712,42.713,42.714,42.715,42.716,42.717,42.718,42.719,42.72,42.721,42.722,42.723,42.724,42.725,42.726,42.727,42.728,42.729,42.73,42.731,42.732,42.733,42.734,42.735,42.736,42.737,42.738,42.739,42.74,42.741,42.742,42.743,42.744,42.745,42.746,42.747,42.748,42.749,42.75,42.751,42.752,42.753,42.754,42.755,42.756,42.757,42.758,42.759,42.76,42.761,42.762,42.763,42.764,42.765,42.766,42.767,42.768,42.769,42.77,42.771,42.772,42.773,42.774,42.775,42.776,42.777,42.778,42.779,42.78,42.781,42.782,42.783,42.784,42.785,42.786,42.787,42.788,42.789,42.79,42.791,42.792,42.793,42.794,42.795,42.796,42.797,42.798,42.799,42.8,42.801,42.802,42.803,42.804,42.805,42.806,42.807,42.808,42.809,42.81,42.811,42.812,42.813,42.814,42.815,42.816,42.817,42.818,42.819,42.82,42.821,42.822,42.823,42.824,42.825,42.826,42.827,42.828,42.829,42.83,42.831,42.832,42.833,42.834,42.835,42.836,42.837,42.838,42.839,42.84,42.841,42.842,42.843,42.844,42.845,42.846,42.847,42.848,42.849,42.85,42.851,42.852,42.853,42.854,42.855,42.856,42.857,42.858,42.859,42.86,42.861,42.862,42.863,42.864,42.865,42.866,42.867,42.868,42.869,42.87,42.871,42.872,42.873,42.874,42.875,42.876,42.877,42.878,42.879,42.88,42.881,42.882,42.883,42.884,42.885,42.886,42.887,42.888,42.889,42.89,42.891,42.892,42.893,42.894,42.895,42.896,42.897,42.898,42.899,42.9,42.901,42.902,42.903,42.904,42.905,42.906,42.907,42.908,42.909,42.91,42.911,42.912,42.913,42.914,42.915,42.916,42.917,42.918,42.919,42.92,42.921,42.922,42.923,42.924,42.925,42.926,42.927,42.928,42.929,42.93,42.931,42.932,42.933,42.934,42.935,42.936,42.937,42.938,42.939,42.94,42.941,42.942,42.943,42.944,42.945,42.946,42.947,42.948,42.949,42.95,42.951,42.952,42.953,42.954,42.955,42.956,42.957,42.958,42.959,42.96,42.961,42.962,42.963,42.964,42.965,42.966,42.967,42.968,42.969,42.97,42.971,42.972,42.973,42.974,42.975,42.976,42.977,42.978,42.979,42.98,42.981,42.982,42.983,42.984,42.985,42.986,42.987,42.988,42.989,42.99,42.991,42.992,42.993,42.994,42.995,42.996,42.997,42.998,42.999,43.0,43.001,43.002,43.003,43.004,43.005,43.006,43.007,43.008,43.009,43.01,43.011,43.012,43.013,43.014,43.015,43.016,43.017,43.018,43.019,43.02,43.021,43.022,43.023,43.024,43.025,43.026,43.027,43.028,43.028999999999996,43.03,43.031,43.032,43.033,43.034,43.035,43.036,43.037,43.038,43.039,43.04,43.041,43.042,43.043,43.044,43.045,43.046,43.047,43.048,43.049,43.05,43.051,43.052,43.053,43.054,43.055,43.056,43.057,43.058,43.059,43.06,43.061,43.062,43.063,43.064,43.065,43.066,43.067,43.068,43.069,43.07,43.071,43.072,43.073,43.074,43.075,43.076,43.077,43.078,43.079,43.08,43.081,43.082,43.083,43.084,43.085,43.086,43.087,43.088,43.089,43.09,43.091,43.092,43.093,43.094,43.095,43.096000000000004,43.097,43.098,43.099,43.1,43.101,43.102,43.103,43.104,43.105,43.106,43.107,43.108,43.109,43.11,43.111,43.112,43.113,43.114,43.115,43.116,43.117,43.118,43.119,43.12,43.121,43.122,43.123,43.124,43.125,43.126,43.127,43.128,43.129,43.13,43.131,43.132,43.133,43.134,43.135,43.136,43.137,43.138,43.139,43.14,43.141,43.142,43.143,43.144,43.145,43.146,43.147,43.148,43.149,43.15,43.151,43.152,43.153,43.153999999999996,43.155,43.156,43.157,43.158,43.159,43.16,43.161,43.162,43.163,43.164,43.165,43.166,43.167,43.168,43.169,43.17,43.171,43.172,43.173,43.174,43.175,43.176,43.177,43.178,43.179,43.18,43.181,43.182,43.183,43.184,43.185,43.186,43.187,43.188,43.189,43.19,43.191,43.192,43.193,43.194,43.195,43.196,43.197,43.198,43.199,43.2,43.201,43.202,43.203,43.204,43.205,43.206,43.207,43.208,43.209,43.21,43.211,43.212,43.213,43.214,43.215,43.216,43.217,43.218,43.219,43.22,43.221000000000004,43.222,43.223,43.224,43.225,43.226,43.227,43.228,43.229,43.23,43.231,43.232,43.233,43.234,43.235,43.236,43.237,43.238,43.239,43.24,43.241,43.242,43.243,43.244,43.245,43.246,43.247,43.248,43.249,43.25,43.251,43.252,43.253,43.254,43.255,43.256,43.257,43.258,43.259,43.26,43.261,43.262,43.263,43.264,43.265,43.266,43.267,43.268,43.269,43.27,43.271,43.272,43.273,43.274,43.275,43.276,43.277,43.278,43.279,43.28,43.281,43.282,43.283,43.284,43.285,43.286,43.287,43.288,43.289,43.29,43.291,43.292,43.293,43.294,43.295,43.296,43.297,43.298,43.299,43.3,43.301,43.302,43.303,43.304,43.305,43.306,43.307,43.308,43.309,43.31,43.311,43.312,43.313,43.314,43.315,43.316,43.317,43.318,43.319,43.32,43.321,43.322,43.323,43.324,43.325,43.326,43.327,43.328,43.329,43.33,43.331,43.332,43.333,43.334,43.335,43.336,43.337,43.338,43.339,43.34,43.341,43.342,43.343,43.344,43.345,43.346000000000004,43.347,43.348,43.349,43.35,43.351,43.352,43.353,43.354,43.355,43.356,43.357,43.358,43.359,43.36,43.361,43.362,43.363,43.364,43.365,43.366,43.367,43.368,43.369,43.37,43.371,43.372,43.373,43.374,43.375,43.376,43.377,43.378,43.379,43.38,43.381,43.382,43.383,43.384,43.385,43.386,43.387,43.388,43.389,43.39,43.391,43.392,43.393,43.394,43.395,43.396,43.397,43.398,43.399,43.4,43.401,43.402,43.403,43.404,43.405,43.406,43.407,43.408,43.409,43.41,43.411,43.412,43.413,43.414,43.415,43.416,43.417,43.418,43.419,43.42,43.421,43.422,43.423,43.424,43.425,43.426,43.427,43.428,43.429,43.43,43.431,43.432,43.433,43.434,43.435,43.436,43.437,43.438,43.439,43.44,43.441,43.442,43.443,43.444,43.445,43.446,43.447,43.448,43.449,43.45,43.451,43.452,43.453,43.454,43.455,43.456,43.457,43.458,43.459,43.46,43.461,43.462,43.463,43.464,43.465,43.466,43.467,43.468,43.469,43.47,43.471000000000004,43.472,43.473,43.474,43.475,43.476,43.477,43.478,43.479,43.48,43.481,43.482,43.483,43.484,43.485,43.486,43.487,43.488,43.489,43.49,43.491,43.492,43.493,43.494,43.495,43.496,43.497,43.498,43.499,43.5,43.501,43.502,43.503,43.504,43.505,43.506,43.507,43.508,43.509,43.51,43.511,43.512,43.513,43.514,43.515,43.516,43.517,43.518,43.519,43.52,43.521,43.522,43.523,43.524,43.525,43.526,43.527,43.528,43.529,43.53,43.531,43.532,43.533,43.534,43.535,43.536,43.537,43.538,43.539,43.54,43.541,43.542,43.543,43.544,43.545,43.546,43.547,43.548,43.549,43.55,43.551,43.552,43.553,43.554,43.555,43.556,43.557,43.558,43.559,43.56,43.561,43.562,43.563,43.564,43.565,43.566,43.567,43.568,43.569,43.57,43.571,43.572,43.573,43.574,43.575,43.576,43.577,43.578,43.579,43.58,43.581,43.582,43.583,43.584,43.585,43.586,43.587,43.588,43.589,43.59,43.591,43.592,43.593,43.594,43.595,43.596000000000004,43.597,43.598,43.599,43.6,43.601,43.602,43.603,43.604,43.605,43.606,43.607,43.608,43.609,43.61,43.611,43.612,43.613,43.614,43.615,43.616,43.617,43.618,43.619,43.62,43.621,43.622,43.623,43.624,43.625,43.626,43.627,43.628,43.629,43.63,43.631,43.632,43.633,43.634,43.635,43.636,43.637,43.638,43.639,43.64,43.641,43.642,43.643,43.644,43.645,43.646,43.647,43.648,43.649,43.65,43.651,43.652,43.653,43.654,43.655,43.656,43.657,43.658,43.659,43.66,43.661,43.662,43.663,43.664,43.665,43.666,43.667,43.668,43.669,43.67,43.671,43.672,43.673,43.674,43.675,43.676,43.677,43.678,43.679,43.68,43.681,43.682,43.683,43.684,43.685,43.686,43.687,43.688,43.689,43.69,43.691,43.692,43.693,43.694,43.695,43.696,43.697,43.698,43.699,43.7,43.701,43.702,43.703,43.704,43.705,43.706,43.707,43.708,43.709,43.71,43.711,43.712,43.713,43.714,43.715,43.716,43.717,43.718,43.719,43.72,43.721000000000004,43.722,43.723,43.724,43.725,43.726,43.727,43.728,43.729,43.73,43.731,43.732,43.733,43.734,43.735,43.736,43.737,43.738,43.739,43.74,43.741,43.742,43.743,43.744,43.745,43.746,43.747,43.748,43.749,43.75,43.751,43.752,43.753,43.754,43.755,43.756,43.757,43.758,43.759,43.76,43.761,43.762,43.763,43.764,43.765,43.766,43.767,43.768,43.769,43.77,43.771,43.772,43.773,43.774,43.775,43.776,43.777,43.778,43.779,43.78,43.781,43.782,43.783,43.784,43.785,43.786,43.787,43.788,43.789,43.79,43.791,43.792,43.793,43.794,43.795,43.796,43.797,43.798,43.799,43.8,43.801,43.802,43.803,43.804,43.805,43.806,43.807,43.808,43.809,43.81,43.811,43.812,43.813,43.814,43.815,43.816,43.817,43.818,43.819,43.82,43.821,43.822,43.823,43.824,43.825,43.826,43.827,43.828,43.829,43.83,43.831,43.832,43.833,43.834,43.835,43.836,43.837,43.838,43.839,43.84,43.841,43.842,43.843,43.844,43.845,43.846000000000004,43.847,43.848,43.849,43.85,43.851,43.852,43.853,43.854,43.855,43.856,43.857,43.858,43.859,43.86,43.861,43.862,43.863,43.864,43.865,43.866,43.867,43.868,43.869,43.87,43.871,43.872,43.873,43.874,43.875,43.876,43.877,43.878,43.879,43.88,43.881,43.882,43.883,43.884,43.885,43.886,43.887,43.888,43.889,43.89,43.891,43.892,43.893,43.894,43.895,43.896,43.897,43.898,43.899,43.9,43.901,43.902,43.903,43.904,43.905,43.906,43.907,43.908,43.909,43.91,43.911,43.912,43.913,43.914,43.915,43.916,43.917,43.918,43.919,43.92,43.921,43.922,43.923,43.924,43.925,43.926,43.927,43.928,43.929,43.93,43.931,43.932,43.933,43.934,43.935,43.936,43.937,43.938,43.939,43.94,43.941,43.942,43.943,43.944,43.945,43.946,43.947,43.948,43.949,43.95,43.951,43.952,43.953,43.954,43.955,43.956,43.957,43.958,43.959,43.96,43.961,43.962,43.963,43.964,43.965,43.966,43.967,43.968,43.969,43.97,43.971000000000004,43.972,43.973,43.974,43.975,43.976,43.977,43.978,43.979,43.98,43.981,43.982,43.983,43.984,43.985,43.986,43.987,43.988,43.989,43.99,43.991,43.992,43.993,43.994,43.995,43.996,43.997,43.998,43.999],\"y\":[-3.7633844151267155,-3.7633846305028733,-3.763384845643156,-3.763385060547592,-3.7633852752162102,-3.7633854896490413,-3.763385703846114,-3.763385917807457,-3.763386131533101,-3.763386345023074,-3.7633865582774053,-3.763386771296125,-3.7633869840792618,-3.7633871966268453,-3.7633874089389048,-3.7633876210154695,-3.7633878328565684,-3.7633880444622307,-3.7633882558324863,-3.7633884669673643,-3.7633886778668932,-3.7633888885311033,-3.7633890989600234,-3.7633893091536823,-3.76338951911211,-3.7633897288353353,-3.7633899383233875,-3.763390147576296,-3.7633903565940896,-3.763390565376798,-3.76339077392445,-3.7633909822370755,-3.763391190314703,-3.7633913981573617,-3.7633916057650816,-3.7633918131378907,-3.7633920202758193,-3.763392227178896,-3.7633924338471503,-3.7633926402806113,-3.7633928464793076,-3.7633930524432695,-3.763393258172525,-3.763393463667104,-3.7633936689270358,-3.763393873952349,-3.763394078743073,-3.763394283299237,-3.7633944876208703,-3.7633946917080014,-3.76339489556066,-3.763395099178876,-3.7633953025626767,-3.7633955057120922,-3.763395708627152,-3.763395911307885,-3.76339611375432,-3.7633963159664865,-3.763396517944413,-3.7633967196881293,-3.763396921197664,-3.7633971224730467,-3.763397323514306,-3.7633975243214715,-3.763397724894572,-3.7633979252336363,-3.7633981253386937,-3.763398325209774,-3.7633985248469046,-3.7633987242501163,-3.7633989234194374,-3.763399122354897,-3.763399321056524,-3.763399519524348,-3.7633997177583973,-3.7633999157587015,-3.76340011352529,-3.7634003110581906,-3.7634005083574333,-3.763400705423047,-3.7634009022550607,-3.763401098853503,-3.7634012952184035,-3.763401491349791,-3.7634016872476947,-3.763401882912143,-3.763402078343166,-3.763402273540791,-3.7634024685050487,-3.7634026632359676,-3.7634028577335763,-3.7634030519979036,-3.7634032460289792,-3.763403439826832,-3.7634036333914906,-3.763403826722984,-3.7634040198213414,-3.7634042126865914,-3.7634044053187634,-3.7634045977178863,-3.763404789883989,-3.7634049818171,-3.763405173517249,-3.763405364984464,-3.763405556218775,-3.7634057472202103,-3.763405937988799,-3.76340612852457,-3.763406318827552,-3.763406508897775,-3.763406698735266,-3.7634068883400555,-3.7634070777121718,-3.763407266851644,-3.7634074557585,-3.7634076444327706,-3.7634078328744835,-3.7634080210836673,-3.763408209060352,-3.7634083968045653,-3.7634085843163367,-3.7634087715956954,-3.7634089586426693,-3.763409145457288,-3.7634093320395805,-3.763409518389575,-3.7634097045073007,-3.763409890392787,-3.7634100760460614,-3.763410261467154,-3.7634104466560934,-3.7634106316129077,-3.7634108163376263,-3.7634110008302786,-3.7634111850908925,-3.763411369119497,-3.763411552916121,-3.7634117364807933,-3.763411919813543,-3.763412102914399,-3.763412285783389,-3.7634124684205434,-3.76341265082589,-3.7634128329994576,-3.7634130149412752,-3.7634131966513715,-3.7634133781297754,-3.7634135593765157,-3.763413740391621,-3.76341392117512,-3.763414101727042,-3.7634142820474152,-3.7634144621362684,-3.7634146419936307,-3.7634148216195307,-3.763415001013997,-3.7634151801770583,-3.763415359108744,-3.763415537809082,-3.763415716278101,-3.7634158945158305,-3.7634160725222987,-3.7634162502975346,-3.7634164278415665,-3.7634166051544233,-3.763416782236134,-3.7634169590867272,-3.763417135706231,-3.763417312094675,-3.7634174882520877,-3.763417664178497,-3.763417839873932,-3.7634180153384222,-3.7634181905719952,-3.7634183655746805,-3.763418540346506,-3.763418714887501,-3.763418889197694,-3.763419063277113,-3.7634192371257873,-3.763419410743746,-3.7634195841310167,-3.763419757287629,-3.763419930213611,-3.7634201029089915,-3.763420275373799,-3.763420447608062,-3.76342061961181,-3.7634207913850704,-3.7634209629278725,-3.763421134240245,-3.763421305322216,-3.7634214761738147,-3.763421646795069,-3.7634218171860088,-3.7634219873466614,-3.7634221572770556,-3.7634223269772207,-3.7634224964471845,-3.763422665686976,-3.7634228346966236,-3.763423003476156,-3.7634231720256017,-3.7634233403449895,-3.7634235084343475,-3.7634236762937046,-3.7634238439230896,-3.7634240113225306,-3.763424178492056,-3.763424345431695,-3.7634245121414756,-3.7634246786214263,-3.763424844871576,-3.7634250108919534,-3.763425176682586,-3.763425342243504,-3.7634255075747345,-3.7634256726763065,-3.7634258375482483,-3.7634260021905885,-3.763426166603356,-3.763426330786579,-3.763426494740286,-3.7634266584645055,-3.763426821959266,-3.763426985224596,-3.763427148260524,-3.763427311067078,-3.7634274736442874,-3.76342763599218,-3.7634277981107847,-3.7634279600001292,-3.763428121660243,-3.763428283091154,-3.7634284442928907,-3.763428605265481,-3.7634287660089547,-3.7634289265233387,-3.763429086808663,-3.7634292468649546,-3.7634294066922425,-3.7634295662905553,-3.7634297256599214,-3.7634298848003693,-3.763430043711927,-3.7634302023946233,-3.7634303608484863,-3.7634305190735446,-3.7634306770698265,-3.7634308348373606,-3.763430992376175,-3.763431149686298,-3.763431306767759,-3.7634314636205852,-3.7634316202448055,-3.763431776640448,-3.7634319328075416,-3.763432088746114,-3.763432244456194,-3.76343239993781,-3.76343255519099,-3.7634327102157625,-3.763432865012156,-3.763433019580199,-3.7634331739199194,-3.7634333280313457,-3.7634334819145066,-3.7634336355694296,-3.763433788996144,-3.7634339421946774,-3.7634340951650582,-3.7634342479073153,-3.7634344004214766,-3.7634345527075705,-3.763434704765625,-3.763434856595669,-3.76343500819773,-3.763435159571837,-3.763435310718018,-3.763435461636301,-3.763435612326715,-3.7634357627892876,-3.763435913024048,-3.763436063031023,-3.7634362128102423,-3.763436362361733,-3.7634365116855246,-3.7634366607816445,-3.7634368096501207,-3.7634369582909826,-3.763437106704257,-3.7634372548899737,-3.7634374028481594,-3.7634375505788435,-3.7634376980820536,-3.7634378453578186,-3.763437992406166,-3.763438139227124,-3.763438285820721,-3.763438432186986,-3.763438578325946,-3.76343872423763,-3.7634388699220658,-3.763439015379282,-3.7634391606093063,-3.763439305612167,-3.7634394503878927,-3.763439594936511,-3.7634397392580508,-3.76343988335254,-3.7634400272200064,-3.7634401708604783,-3.763440314273984,-3.763440457460552,-3.7634406004202092,-3.7634407431529855,-3.763440885658908,-3.763441027938005,-3.7634411699903048,-3.7634413118158356,-3.763441453414625,-3.763441594786702,-3.7634417359320937,-3.7634418768508295,-3.7634420175429364,-3.7634421580084427,-3.7634422982473774,-3.7634424382597675,-3.7634425780456415,-3.763442717605028,-3.7634428569379543,-3.763442996044449,-3.76344313492454,-3.7634432735782557,-3.763443412005624,-3.7634435502066723,-3.76344368818143,-3.763443825929924,-3.7634439634521835,-3.7634441007482353,-3.7634442378181086,-3.7634443746618307,-3.76344451127943,-3.7634446476709345,-3.763444783836372,-3.763444919775771,-3.7634450554891594,-3.7634451909765647,-3.763445326238016,-3.76344546127354,-3.7634455960831663,-3.7634457306669216,-3.763445865024835,-3.763445999156933,-3.763446133063245,-3.7634462667437987,-3.763446400198622,-3.7634465334277425,-3.7634466664311885,-3.7634467992089884,-3.7634469317611696,-3.7634470640877606,-3.763447196188789,-3.763447328064283,-3.7634474597142704,-3.7634475911387795,-3.7634477223378378,-3.7634478533114732,-3.7634479840597144,-3.7634481145825887,-3.7634482448801245,-3.7634483749523495,-3.7634485047992916,-3.7634486344209788,-3.7634487638174394,-3.7634488929887007,-3.763449021934791,-3.763449150655738,-3.7634492791515703,-3.763449407422315,-3.7634495354680007,-3.7634496632886543,-3.7634497908843048,-3.7634499182549797,-3.763450045400707,-3.7634501723215146,-3.76345029901743,-3.7634504254884815,-3.763450551734697,-3.763450677756104,-3.7634508035527308,-3.763450929124605,-3.763451054471755,-3.7634511795942083,-3.7634513044919924,-3.7634514291651358,-3.763451553613666,-3.763451677837611,-3.7634518018369985,-3.7634519256118564,-3.763452049162213,-3.7634521724880954,-3.763452295589532,-3.7634524184665503,-3.7634525411191784,-3.7634526635474437,-3.7634527857513747,-3.7634529077309984,-3.7634530294863437,-3.7634531510174374,-3.7634532723243077,-3.7634533934069823,-3.7634535142654895,-3.7634536348998564,-3.763453755310111,-3.763453875496282,-3.7634539954583954,-3.7634541151964807,-3.7634542347105646,-3.7634543540006753,-3.7634544730668407,-3.7634545919090883,-3.7634547105274456,-3.763454828921941,-3.7634549470926024,-3.763455065039457,-3.763455182762532,-3.7634553002618567,-3.7634554175374575,-3.763455534589363,-3.7634556514176007,-3.763455768022198,-3.7634558844031827,-3.763456000560583,-3.7634561164944262,-3.76345623220474,-3.7634563476915526,-3.763456462954891,-3.7634565779947833,-3.7634566928112574,-3.763456807404341,-3.763456921774061,-3.7634570359204464,-3.763457149843524,-3.7634572635433217,-3.7634573770198667,-3.7634574902731877,-3.7634576033033116,-3.7634577161102665,-3.76345782869408,-3.7634579410547793,-3.7634580531923922,-3.763458165106947,-3.763458276798471,-3.763458388266992,-3.7634584995125366,-3.763458610535134,-3.763458721334811,-3.763458831911595,-3.7634589422655145,-3.7634590523965965,-3.7634591623048688,-3.7634592719903592,-3.763459381453095,-3.7634594906931036,-3.7634595997104134,-3.763459708505051,-3.7634598170770452,-3.763459925426423,-3.7634600335532116,-3.7634601414574393,-3.763460249139133,-3.7634603565983213,-3.7634604638350306,-3.7634605708492894,-3.763460677641125,-3.7634607842105643,-3.763460890557636,-3.7634609966823667,-3.7634611025847846,-3.7634612082649173,-3.7634613137227917,-3.7634614189584363,-3.763461523971878,-3.763461628763144,-3.763461733332263,-3.763461837679261,-3.763461941804167,-3.763462045707008,-3.7634621493878115,-3.7634622528466046,-3.7634623560834153,-3.7634624590982715,-3.7634625618912,-3.7634626644622284,-3.7634627668113843,-3.7634628689386953,-3.763462970844189,-3.763463072527893,-3.7634631739898343,-3.7634632752300408,-3.7634633762485397,-3.7634634770453586,-3.763463577620525,-3.7634636779740664,-3.7634637781060105,-3.7634638780163843,-3.7634639777052157,-3.7634640771725314,-3.76346417641836,-3.763464275442728,-3.7634643742456637,-3.7634644728271938,-3.763464571187346,-3.7634646693261478,-3.7634647672436263,-3.7634648649398095,-3.7634649624147247,-3.763465059668399,-3.7634651567008603,-3.7634652535121353,-3.763465350102252,-3.763465446471238,-3.76346554261912,-3.7634656385459255,-3.7634657342516826,-3.7634658297364183,-3.7634659250001596,-3.7634660200429346,-3.7634661148647703,-3.7634662094656943,-3.7634663038457337,-3.763466398004916,-3.763466491943268,-3.7634665856608183,-3.7634666791575935,-3.763466772433621,-3.7634668654889283,-3.7634669583235425,-3.763467050937491,-3.763467143330802,-3.7634672355035015,-3.7634673274556176,-3.7634674191871773,-3.7634675106982085,-3.7634676019887383,-3.7634676930587934,-3.763467783908402,-3.763467874537591,-3.7634679649463876,-3.7634680551348194,-3.7634681451029137,-3.7634682348506976,-3.7634683243781986,-3.7634684136854437,-3.7634685027724606,-3.7634685916392763,-3.7634686802859183,-3.7634687687124133,-3.7634688569187897,-3.7634689449050738,-3.7634690326712934,-3.7634691202174753,-3.763469207543647,-3.7634692946498363,-3.7634693815360696,-3.7634694682023744,-3.763469554648778,-3.763469640875308,-3.7634697268819917,-3.7634698126688555,-3.763469898235927,-3.763469983583234,-3.7634700687108036,-3.7634701536186626,-3.763470238306838,-3.763470322775358,-3.7634704070242484,-3.7634704910535377,-3.763470574863253,-3.7634706584534205,-3.7634707418240687,-3.7634708249752236,-3.7634709079069135,-3.763470990619165,-3.763471073112005,-3.763471155385461,-3.7634712374395605,-3.76347131927433,-3.7634714008897974,-3.76347148228599,-3.7634715634629337,-3.763471644420657,-3.7634717251591865,-3.763471805678549,-3.7634718859787726,-3.7634719660598837,-3.76347204592191,-3.7634721255648778,-3.763472204988815,-3.7634722841937487,-3.7634723631797056,-3.7634724419467127,-3.763472520494798,-3.763472598823988,-3.7634726769343096,-3.763472754825791,-3.763472832498458,-3.7634729099523385,-3.763472987187459,-3.7634730642038474,-3.7634731410015303,-3.7634732175805348,-3.763473293940888,-3.7634733700826173,-3.7634734460057495,-3.7634735217103117,-3.763473597196331,-3.7634736724638342,-3.763473747512849,-3.763473822343402,-3.7634738969555204,-3.7634739713492316,-3.763474045524562,-3.763474119481539,-3.763474193220189,-3.7634742667405408,-3.7634743400426194,-3.7634744131264535,-3.763474485992069,-3.7634745586394933,-3.7634746310687532,-3.763474703279876,-3.7634747752728894,-3.763474847047819,-3.7634749186046927,-3.763474989943538,-3.7634750610643803,-3.763475131967248,-3.7634752026521676,-3.763475273119166,-3.763475343368271,-3.7634754133995085,-3.763475483212906,-3.76347555280849,-3.7634756221862884,-3.7634756913463274,-3.763475760288635,-3.7634758290132364,-3.76347589752016,-3.7634759658094326,-3.7634760338810804,-3.7634761017351313,-3.7634761693716117,-3.7634762367905488,-3.7634763039919696,-3.7634763709759005,-3.763476437742369,-3.763476504291402,-3.7634765706230255,-3.763476636737268,-3.7634767026341556,-3.7634767683137147,-3.7634768337759734,-3.7634768990209575,-3.7634769640486945,-3.7634770288592114,-3.763477093452535,-3.763477157828692,-3.7634772219877095,-3.763477285929614,-3.763477349654433,-3.763477413162193,-3.7634774764529206,-3.7634775395266438,-3.763477602383388,-3.7634776650231814,-3.76347772744605,-3.763477789652021,-3.763477851641121,-3.7634779134133773,-3.7634779749688163,-3.7634780363074656,-3.763478097429351,-3.7634781583345,-3.7634782190229394,-3.763478279494696,-3.7634783397497964,-3.7634783997882675,-3.7634784596101367,-3.7634785192154303,-3.763478578604175,-3.7634786377763976,-3.7634786967321254,-3.763478755471385,-3.7634788139942033,-3.7634788723006065,-3.763478930390622,-3.7634789882642767,-3.763479045921597,-3.76347910336261,-3.763479160587342,-3.7634792175958203,-3.7634792743880716,-3.763479330964122,-3.7634793873239993,-3.76347944346773,-3.7634794993953404,-3.7634795551068576,-3.7634796106023085,-3.7634796658817193,-3.763479720945117,-3.763479775792529,-3.7634798304239814,-3.763479884839501,-3.7634799390391143,-3.7634799930228486,-3.7634800467907303,-3.763480100342786,-3.763480153679043,-3.763480206799527,-3.763480259704266,-3.763480312393286,-3.7634803648666137,-3.763480417124276,-3.763480469166299,-3.7634805209927102,-3.763480572603536,-3.7634806239988032,-3.7634806751785383,-3.763480726142768,-3.763480776891519,-3.763480827424818,-3.763480877742692,-3.7634809278451673,-3.76348097773227,-3.7634810274040285,-3.763481076860468,-3.763481126101615,-3.763481175127497,-3.7634812239381406,-3.7634812725335722,-3.7634813209138183,-3.7634813690789057,-3.763481417028861,-3.7634814647637107,-3.763481512283482,-3.7634815595882007,-3.763481606677894,-3.7634816535525886,-3.763481700212311,-3.7634817466570873,-3.7634817928869446,-3.76348183890191,-3.763481884702009,-3.7634819302872686,-3.763481975657716,-3.763482020813377,-3.7634820657542787,-3.7634821104804472,-3.7634821549919097,-3.7634821992886924,-3.7634822433708224,-3.7634822872383253,-3.7634823308912284,-3.763482374329558,-3.7634824175533406,-3.7634824605626034,-3.763482503357372,-3.7634825459376735,-3.7634825883035345,-3.7634826304549813,-3.7634826723920405,-3.7634827141147387,-3.7634827556231025,-3.7634827969171583,-3.763482837996933,-3.7634828788624524,-3.7634829195137436,-3.763482959950833,-3.763483000173747,-3.7634830401825123,-3.7634830799771555,-3.7634831195577023,-3.7634831589241804,-3.7634831980766155,-3.763483237015034,-3.763483275739463,-3.763483314249929,-3.7634833525464577,-3.7634833906290766,-3.7634834284978114,-3.7634834661526884,-3.763483503593735,-3.763483540820977,-3.7634835778344407,-3.7634836146341533,-3.763483651220141,-3.7634836875924296,-3.763483723751046,-3.763483759696017,-3.7634837954273688,-3.7634838309451277,-3.76348386624932,-3.763483901339973,-3.763483936217112,-3.763483970880764,-3.7634840053309553,-3.7634840395677123,-3.7634840735910617,-3.7634841074010295,-3.7634841409976425,-3.7634841743809266,-3.763484207550909,-3.763484240507615,-3.7634842732510725,-3.7634843057813065,-3.7634843380983436,-3.7634843702022107,-3.763484402092934,-3.7634844337705404,-3.763484465235055,-3.7634844964865053,-3.763484527524917,-3.763484558350317,-3.7634845889627315,-3.7634846193621865,-3.7634846495487086,-3.7634846795223242,-3.76348470928306,-3.7634847388309414,-3.7634847681659958,-3.763484797288249,-3.763484826197727,-3.763484854894457,-3.7634848833784647,-3.7634849116497766,-3.7634849397084187,-3.763484967554418,-3.7634849951878007,-3.763485022608592,-3.7634850498168197,-3.7634850768125094,-3.7634851035956878,-3.76348513016638,-3.763485156524614,-3.763485182670415,-3.7634852086038095,-3.7634852343248237,-3.7634852598334843,-3.7634852851298173,-3.7634853102138486,-3.7634853350856052,-3.763485359745113,-3.763485384192398,-3.763485408427487,-3.7634854324504063,-3.7634854562611815,-3.763485479859839,-3.763485503246406,-3.7634855264209075,-3.76348554938337,-3.7634855721338205,-3.7634855946722845,-3.7634856169987887,-3.763485639113359,-3.763485661016021,-3.7634856827068024,-3.7634857041857286,-3.763485725452826,-3.7634857465081204,-3.763485767351638,-3.763485787983406,-3.7634858084034493,-3.763485828611795,-3.7634858486084686,-3.7634858683934973,-3.7634858879669064,-3.763485907328722,-3.763485926478971,-3.7634859454176794,-3.763485964144873,-3.763485982660578,-3.7634860009648206,-3.7634860190576274,-3.763486036939024,-3.763486054609037,-3.7634860720676926,-3.7634860893150166,-3.763486106351035,-3.7634861231757744,-3.763486139789261,-3.76348615619152,-3.7634861723825788,-3.763486188362463,-3.7634862041311985,-3.7634862196888115,-3.7634862350353284,-3.763486250170775,-3.7634862650951777,-3.7634862798085624,-3.7634862943109555,-3.7634863086023826,-3.76348632268287,-3.763486336552444,-3.7634863502111306,-3.763486363658956,-3.7634863768959463,-3.763486389922127,-3.763486402737525,-3.763486415342166,-3.763486427736076,-3.763486439919281,-3.763486451891807,-3.7634864636536807,-3.7634864752049277,-3.763486486545574,-3.7634864976756455,-3.763486508595169,-3.7634865193041698,-3.763486529802674,-3.763486540090708,-3.763486550168298,-3.7634865600354694,-3.7634865696922484,-3.7634865791386614,-3.763486588374734,-3.7634865974004925,-3.763486606215963,-3.763486614821171,-3.7634866232161435,-3.7634866314009052,-3.763486639375483,-3.7634866471399024,-3.7634866546941903,-3.7634866620383716,-3.763486669172473,-3.76348667609652,-3.7634866828105387,-3.7634866893145555,-3.763486695608596,-3.763486701692686,-3.763486707566852,-3.76348671323112,-3.763486718685515,-3.763486723930064,-3.7634867289647924,-3.763486733789726,-3.763486738404892,-3.763486742810315,-3.763486747006021,-3.763486750992037,-3.7634867547683877,-3.7634867583350995,-3.7634867616921985,-3.763486764839711,-3.7634867677776622,-3.7634867705060784,-3.7634867730249852,-3.7634867753344086,-3.763486777434375,-3.76348677932491,-3.763486781006039,-3.7634867824777882,-3.763486783740184,-3.763486784793252,-3.763486785637018,-3.763486786271508,-3.7634867866967476,-3.763486786912763,-3.76348678691958,-3.763486786717224,-3.7634867863057218,-3.7634867856850986,-3.7634867848553806,-3.7634867838165933,-3.763486782568763,-3.763486781111915,-3.7634867794460756,-3.7634867775712704,-3.7634867754875256,-3.7634867731948667,-3.7634867706933197,-3.76348676798291,-3.7634867650636643,-3.763486761935608,-3.7634867585987664,-3.7634867550531657,-3.7634867512988324,-3.763486747335791,-3.7634867431640684,-3.76348673878369,-3.763486734194682,-3.7634867293970693,-3.7634867243908783,-3.763486719176135,-3.7634867137528647,-3.763486708121093,-3.763486702280847,-3.763486696232151,-3.7634866899750317,-3.763486683509514,-3.7634866768356248,-3.763486669953389,-3.7634866628628325,-3.7634866555639817,-3.7634866480568614,-3.763486640341498,-3.7634866324179166,-3.763486624286144,-3.763486615946205,-3.763486607398126,-3.7634865986419324,-3.7634865896776497,-3.763486580505304,-3.7634865711249215,-3.7634865615365265,-3.7634865517401463,-3.7634865417358054,-3.7634865315235304,-3.7634865211033466,-3.7634865104752793,-3.763486499639355,-3.763486488595599,-3.763486477344037,-3.763486465884695,-3.763486454217598,-3.7634864423427725,-3.7634864302602438,-3.7634864179700376,-3.7634864054721793,-3.763486392766695,-3.7634863798536107,-3.763486366732951,-3.7634863534047422,-3.76348633986901,-3.7634863261257805,-3.763486312175078,-3.7634862980169297,-3.7634862836513605,-3.763486269078396,-3.7634862542980616,-3.7634862393103834,-3.763486224115387,-3.7634862087130982,-3.763486193103542,-3.7634861772867447,-3.7634861612627315,-3.7634861450315285,-3.7634861285931605,-3.7634861119476537,-3.7634860950950335,-3.763486078035326,-3.763486060768556,-3.76348604329475,-3.7634860256139326,-3.76348600772613,-3.7634859896313677,-3.7634859713296716,-3.7634859528210667,-3.763485934105579,-3.763485915183234,-3.7634858960540565,-3.7634858767180734,-3.7634858571753096,-3.7634858374257907,-3.763485817469542,-3.76348579730659,-3.763485776936959,-3.763485756360675,-3.7634857355777642,-3.7634857145882514,-3.763485693392162,-3.7634856719895224,-3.7634856503803578,-3.7634856285646934,-3.7634856065425546,-3.763485584313967,-3.7634855618789573,-3.7634855392375495,-3.76348551638977,-3.7634854933356436,-3.7634854700751963,-3.7634854466084535,-3.763485422935441,-3.763485399056184,-3.7634853749707076,-3.763485350679038,-3.7634853261812005,-3.7634853014772203,-3.763485276567123,-3.7634852514509345,-3.7634852261286795,-3.763485200600384,-3.763485174866074,-3.7634851489257737,-3.7634851227795094,-3.7634850964273063,-3.7634850698691897,-3.7634850431051854,-3.763485016135319,-3.7634849889596156,-3.7634849615781008,-3.7634849339907994,-3.763484906197738,-3.763484878198941,-3.763484849994435,-3.763484821584244,-3.763484792968394,-3.763484764146911,-3.7634847351198197,-3.763484705887146,-3.763484676448915,-3.763484646805152,-3.763484616955883,-3.7634845869011326,-3.7634845566409267,-3.763484526175291,-3.76348449550425,-3.7634844646278296,-3.7634844335460556,-3.7634844022589524,-3.7634843707665464,-3.763484339068862,-3.763484307165925,-3.7634842750577615,-3.7634842427443957,-3.763484210225854,-3.763484177502161,-3.763484144573342,-3.7634841114394226,-3.763484078100429,-3.763484044556385,-3.763484010807317,-3.7634839768532498,-3.763483942694209,-3.76348390833022,-3.7634838737613077,-3.763483838987498,-3.763483804008816,-3.763483768825287,-3.7634837334369364,-3.7634836978437893,-3.7634836620458714,-3.7634836260432074,-3.763483589835823,-3.7634835534237436,-3.7634835168069944,-3.7634834799856005,-3.7634834429595876,-3.7634834057289805,-3.7634833682938047,-3.7634833306540854,-3.7634832928098483,-3.7634832547611183,-3.7634832165079204,-3.7634831780502807,-3.7634831393882235,-3.763483100521775,-3.76348306145096,-3.763483022175803,-3.7634829826963303,-3.7634829430125674,-3.7634829031245385,-3.7634828630322694,-3.7634828227357855,-3.7634827822351116,-3.763482741530273,-3.7634827006212954,-3.7634826595082034,-3.763482618191023,-3.7634825766697784,-3.7634825349444956,-3.7634824930151995,-3.7634824508819156,-3.763482408544669,-3.7634823660034846,-3.763482323258388,-3.763482280309404,-3.763482237156558,-3.763482193799875,-3.7634821502393807,-3.7634821064751,-3.763482062507058,-3.76348201833528,-3.763481973959791,-3.7634819293806165,-3.763481884597781,-3.7634818396113103,-3.7634817944212298,-3.7634817490275636,-3.763481703430338,-3.7634816576295775,-3.7634816116253074,-3.7634815654175524,-3.763481519006339,-3.7634814723916907,-3.7634814255736337,-3.7634813785521923,-3.7634813313273927,-3.7634812838992593,-3.7634812362678174,-3.7634811884330923,-3.7634811403951085,-3.7634810921538917,-3.7634810437094672,-3.7634809950618595,-3.763480946211094,-3.7634808971571956,-3.76348084790019,-3.7634807984401015,-3.7634807487769555,-3.763480698910777,-3.763480648841592,-3.763480598569424,-3.7634805480942997,-3.763480497416243,-3.763480446535279,-3.7634803954514333,-3.763480344164731,-3.763480292675197,-3.763480240982856,-3.7634801890877334,-3.7634801369898545,-3.7634800846892436,-3.7634800321859267,-3.763479979479928,-3.7634799265712733,-3.763479873459987,-3.7634798201460944,-3.7634797666296205,-3.7634797129105904,-3.763479658989029,-3.7634796048649615,-3.763479550538413,-3.7634794960094076,-3.7634794412779717,-3.7634793863441294,-3.763479331207906,-3.7634792758693263,-3.7634792203284158,-3.763479164585199,-3.763479108639701,-3.7634790524919466,-3.7634789961419615,-3.7634789395897696,-3.763478882835397,-3.763478825878868,-3.7634787687202076,-3.7634787113594412,-3.7634786537965934,-3.763478596031689,-3.7634785380647537,-3.7634784798958116,-3.763478421524888,-3.763478362952008,-3.7634783041771964,-3.7634782452004782,-3.763478186021878,-3.7634781266414215,-3.763478067059133,-3.7634780072750376,-3.76347794728916,-3.763477887101526,-3.763477826712159,-3.7634777661210856,-3.76347770532833,-3.7634776443339164,-3.763477583137871,-3.7634775217402177,-3.7634774601409817,-3.763477398340188,-3.7634773363378615,-3.7634772741340274,-3.76347721172871,-3.7634771491219343,-3.7634770863137255,-3.7634770233041084,-3.7634769600931075,-3.763476896680748,-3.763476833067055,-3.7634767692520534,-3.7634767052357674,-3.7634766410182223,-3.7634765765994427,-3.7634765119794538,-3.7634764471582804,-3.763476382135947,-3.763476316912479,-3.763476251487901,-3.7634761858622374,-3.763476120035514,-3.7634760540077545,-3.763475987778985,-3.763475921349229,-3.763475854718512,-3.763475787886859,-3.7634757208542946,-3.7634756536208434,-3.7634755861865306,-3.763475518551381,-3.763475450715419,-3.7634753826786698,-3.7634753144411577,-3.763475246002908,-3.7634751773639454,-3.763475108524295,-3.7634750394839807,-3.7634749702430277,-3.7634749008014614,-3.763474831159306,-3.7634747613165858,-3.7634746912733266,-3.763474621029552,-3.763474550585288,-3.763474479940559,-3.763474409095389,-3.7634743380498037,-3.7634742668038275,-3.763474195357485,-3.763474123710801,-3.7634740518638004,-3.7634739798165078,-3.763473907568948,-3.7634738351211454,-3.7634737624731254,-3.763473689624912,-3.763473616576531,-3.763473543328006,-3.763473469879362,-3.763473396230624,-3.7634733223818166,-3.7634732483329643,-3.7634731740840923,-3.763473099635225,-3.7634730249863866,-3.7634729501376025,-3.763472875088897,-3.7634727998402955,-3.763472724391822,-3.763472648743501,-3.7634725728953575,-3.7634724968474162,-3.763472420599702,-3.7634723441522393,-3.7634722675050525,-3.7634721906581667,-3.7634721136116065,-3.7634720363653966,-3.7634719589195615,-3.7634718812741257,-3.7634718034291144,-3.7634717253845515,-3.763471647140462,-3.763471568696871,-3.7634714900538024,-3.763471411211281,-3.7634713321693316,-3.763471252927979,-3.7634711734872477,-3.763471093847162,-3.7634710140077465,-3.7634709339690264,-3.763470853731026,-3.76347077329377,-3.763470692657283,-3.763470611821589,-3.763470530786713,-3.7634704495526803,-3.7634703681195147,-3.763470286487241,-3.7634702046558832,-3.763470122625467,-3.763470040396016,-3.7634699579675557,-3.76346987534011,-3.7634697925137037,-3.763469709488361,-3.763469626264107,-3.763469542840966,-3.7634694592189626,-3.7634693753981217,-3.763469291378467,-3.7634692071600235,-3.763469122742816,-3.763469038126869,-3.7634689533122065,-3.7634688682988537,-3.763468783086835,-3.763468697676174,-3.7634686120668968,-3.7634685262590266,-3.763468440252589,-3.7634683540476077,-3.7634682676441074,-3.7634681810421124,-3.763468094241648,-3.763468007242738,-3.7634679200454073,-3.7634678326496798,-3.7634677450555807,-3.763467657263134,-3.7634675692723647,-3.7634674810832967,-3.7634673926959548,-3.7634673041103635,-3.7634672153265467,-3.76346712634453,-3.7634670371643373,-3.7634669477859926,-3.763466858209521,-3.7634667684349465,-3.763466678462294,-3.763466588291588,-3.7634664979228525,-3.763466407356112,-3.763466316591391,-3.7634662256287146,-3.763466134468106,-3.763466043109591,-3.763465951553193,-3.763465859798937,-3.763465767846847,-3.763465675696948,-3.763465583349263,-3.7634654908038185,-3.763465398060638,-3.763465305119745,-3.763465211981165,-3.7634651186449224,-3.7634650251110413,-3.763464931379546,-3.763464837450461,-3.763464743323811,-3.7634646489996197,-3.763464554477912,-3.763464459758712,-3.7634643648420445,-3.7634642697279337,-3.7634641744164035,-3.763464078907479,-3.7634639832011842,-3.7634638872975437,-3.7634637911965814,-3.7634636948983218,-3.7634635984027898,-3.763463501710009,-3.763463404820004,-3.7634633077327995,-3.7634632104484194,-3.7634631129668885,-3.7634630152882305,-3.7634629174124705,-3.7634628193396322,-3.76346272106974,-3.7634626226028183,-3.763462523938892,-3.7634624250779845,-3.7634623260201208,-3.763462226765325,-3.7634621273136206,-3.7634620276650335,-3.763461927819587,-3.7634618277773053,-3.7634617275382127,-3.7634616271023345,-3.7634615264696936,-3.7634614256403154,-3.7634613246142234,-3.763461223391442,-3.7634611219719964,-3.76346102035591,-3.7634609185432066,-3.7634608165339114,-3.7634607143280485,-3.763460611925642,-3.763460509326716,-3.763460406531295,-3.7634603035394036,-3.7634602003510653,-3.7634600969663046,-3.7634599933851463,-3.7634598896076135,-3.7634597856337315,-3.7634596814635244,-3.7634595770970156,-3.7634594725342305,-3.763459367775192,-3.763459262819926,-3.7634591576684553,-3.7634590523208047,-3.763458946776998,-3.76345884103706,-3.7634587351010147,-3.7634586289688863,-3.7634585226406987,-3.7634584161164764,-3.7634583093962433,-3.7634582024800243,-3.763458095367843,-3.7634579880597236,-3.7634578805556904,-3.7634577728557677,-3.7634576649599794,-3.7634575568683495,-3.763457448580903,-3.763457340097663,-3.763457231418655,-3.763457122543902,-3.7634570134734284,-3.763456904207259,-3.7634567947454167,-3.763456685087927,-3.7634565752348133,-3.7634564651860996,-3.7634563549418107,-3.7634562445019704,-3.7634561338666024,-3.7634560230357317,-3.763455912009382,-3.7634558007875767,-3.7634556893703413,-3.7634555777576986,-3.763455465949674,-3.7634553539462905,-3.763455241747573,-3.7634551293535448,-3.763455016764231,-3.763454903979655,-3.763454790999841,-3.763454677824813,-3.763454564454596,-3.7634544508892125,-3.7634543371286875,-3.7634542231730452,-3.7634541090223097,-3.763453994676505,-3.7634538801356547,-3.7634537653997833,-3.763453650468915,-3.763453535343073,-3.7634534200222824,-3.763453304506567,-3.7634531887959506,-3.7634530728904574,-3.763452956790111,-3.763452840494937,-3.7634527240049573,-3.7634526073201973,-3.7634524904406805,-3.763452373366431,-3.763452256097473,-3.7634521386338307,-3.763452020975528,-3.7634519031225886,-3.763451785075037,-3.7634516668328963,-3.763451548396192,-3.7634514297649466,-3.763451310939185,-3.7634511919189313,-3.7634510727042088,-3.7634509532950418,-3.7634508336914547,-3.7634507138934707,-3.7634505939011147,-3.76345047371441,-3.763450353333381,-3.7634502327580517,-3.7634501119884454,-3.763449991024587,-3.7634498698664993,-3.7634497485142075,-3.763449626967735,-3.7634495052271055,-3.7634493832923437,-3.763449261163473,-3.7634491388405173,-3.763449016323501,-3.7634488936124475,-3.763448770707381,-3.7634486476083255,-3.763448524315305,-3.763448400828343,-3.763448277147464,-3.7634481532726913,-3.7634480292040497,-3.7634479049415623,-3.7634477804852535,-3.763447655835147,-3.7634475309912667,-3.7634474059536362,-3.7634472807222803,-3.7634471552972224,-3.763447029678486,-3.7634469038660954,-3.7634467778600746,-3.7634466516604475,-3.7634465252672378,-3.763446398680469,-3.763446271900166,-3.7634461449263514,-3.7634460177590503,-3.763445890398286,-3.763445762844082,-3.763445635096463,-3.7634455071554522,-3.763445379021074,-3.7634452506933513,-3.763445122172309,-3.763444993457971,-3.76344486455036,-3.7634447354495006,-3.763444606155417,-3.7634444766681323,-3.763444346987671,-3.7634442171140563,-3.7634440870473123,-3.763443956787463,-3.763443826334532,-3.7634436956885433,-3.7634435648495206,-3.7634434338174874,-3.763443302592468,-3.7634431711744862,-3.763443039563566,-3.76344290775973,-3.7634427757630036,-3.7634426435734096,-3.7634425111909717,-3.7634423786157147,-3.7634422458476613,-3.763442112886836,-3.763441979733262,-3.7634418463869634,-3.763441712847964,-3.7634415791162876,-3.763441445191958,-3.7634413110749985,-3.763441176765433,-3.763441042263286,-3.763440907568581,-3.763440772681341,-3.7634406376015903,-3.7634405023293525,-3.7634403668646517,-3.7634402312075115,-3.763440095357955,-3.763439959316007,-3.7634398230816903,-3.7634396866550293,-3.7634395500360474,-3.763439413224768,-3.7634392762212157,-3.763439139025414,-3.7634390016373853,-3.763438864057155,-3.763438726284746,-3.763438588320182,-3.7634384501634877,-3.763438311814685,-3.763438173273799,-3.7634380345408527,-3.7634378956158705,-3.7634377564988752,-3.763437617189891,-3.763437477688942,-3.763437337996051,-3.7634371981112418,-3.763437058034538,-3.7634369177659646,-3.763436777305544,-3.7634366366533,-3.7634364958092563,-3.7634363547734364,-3.7634362135458646,-3.7634360721265643,-3.7634359305155587,-3.7634357887128718,-3.7634356467185275,-3.763435504532549,-3.7634353621549597,-3.763435219585784,-3.7634350768250453,-3.763434933872767,-3.7634347907289722,-3.763434647393686,-3.7634345038669306,-3.76343436014873,-3.7634342162391086,-3.763434072138089,-3.763433927845695,-3.763433783361951,-3.7634336386868794,-3.7634334938205045,-3.76343334876285,-3.7634332035139395,-3.763433058073796,-3.7634329124424437,-3.7634327666199057,-3.763432620606206,-3.763432474401368,-3.763432328005415,-3.7634321814183713,-3.76343203464026,-3.7634318876711044,-3.7634317405109283,-3.7634315931597557,-3.7634314456176097,-3.7634312978845137,-3.7634311499604913,-3.7634310018455666,-3.7634308535397625,-3.763430705043103,-3.7634305563556114,-3.7634304074773115,-3.7634302584082264,-3.7634301091483797,-3.7634299596977954,-3.7634298100564965,-3.7634296602245065,-3.7634295102018496,-3.7634293599885487,-3.7634292095846273,-3.763429058990109,-3.7634289082050176,-3.7634287572293763,-3.7634286060632087,-3.7634284547065384,-3.763428303159389,-3.7634281514217833,-3.763427999493745,-3.7634278473752985,-3.7634276950664662,-3.7634275425672725,-3.76342738987774,-3.7634272369978925,-3.7634270839277537,-3.763426930667347,-3.7634267772166954,-3.763426623575823,-3.763426469744753,-3.7634263157235086,-3.763426161512114,-3.7634260071105916,-3.7634258525189654,-3.7634256977372593,-3.763425542765496,-3.763425387603699,-3.763425232251892,-3.7634250767100985,-3.7634249209783417,-3.7634247650566452,-3.7634246089450327,-3.7634244526435268,-3.763424296152152,-3.7634241394709305,-3.7634239825998863,-3.763423825539043,-3.7634236682884237,-3.7634235108480523,-3.7634233532179513,-3.763423195398145,-3.7634230373886566,-3.763422879189509,-3.763422720800726,-3.7634225622223307,-3.763422403454347,-3.7634222444967977,-3.7634220853497067,-3.7634219260130966,-3.763421766486992,-3.7634216067714146,-3.7634214468663894,-3.7634212867719388,-3.7634211264880864,-3.7634209660148557,-3.7634208053522697,-3.7634206445003526,-3.7634204834591265,-3.7634203222286153,-3.763420160808843,-3.763419999199832,-3.7634198374016057,-3.763419675414188,-3.763419513237602,-3.763419350871871,-3.7634191883170183,-3.763419025573067,-3.7634188626400404,-3.7634186995179624,-3.763418536206856,-3.7634183727067443,-3.763418209017651,-3.763418045139599,-3.7634178810726118,-3.763417716816712,-3.7634175523719247,-3.7634173877382713,-3.763417222915776,-3.763417057904462,-3.7634168927043525,-3.7634167273154704,-3.7634165617378397,-3.7634163959714835,-3.7634162300164244,-3.7634160638726866,-3.763415897540293,-3.763415731019266,-3.7634155643096308,-3.763415397411409,-3.763415230324624,-3.7634150630492997,-3.7634148955854587,-3.763414727933125,-3.7634145600923214,-3.763414392063071,-3.7634142238453974,-3.7634140554393234,-3.7634138868448725,-3.763413718062068,-3.763413549090933,-3.7634133799314906,-3.7634132105837645,-3.763413041047777,-3.763412871323552,-3.763412701411113,-3.763412531310483,-3.7634123610216843,-3.763412190544741,-3.7634120198796763,-3.7634118490265127,-3.763411677985274,-3.763411506755984,-3.7634113353386645,-3.7634111637333394,-3.763410991940032,-3.763410819958765,-3.7634106477895615,-3.763410475432446,-3.76341030288744,-3.763410130154567,-3.763409957233851,-3.763409784125315,-3.7634096108289814,-3.763409437344874,-3.7634092636730156,-3.7634090898134294,-3.7634089157661386,-3.763408741531167,-3.763408567108536,-3.763408392498271,-3.763408217700393,-3.7634080427149263,-3.7634078675418943,-3.7634076921813193,-3.763407516633225,-3.763407340897634,-3.76340716497457,-3.7634069888640553,-3.7634068125661138,-3.7634066360807683,-3.763406459408042,-3.763406282547958,-3.7634061055005392,-3.7634059282658088,-3.7634057508437904,-3.7634055732345058,-3.7634053954379794,-3.7634052174542334,-3.763405039283292,-3.7634048609251765,-3.7634046823799117,-3.7634045036475197,-3.763404324728024,-3.7634041456214473,-3.763403966327813,-3.763403786847144,-3.7634036071794634,-3.763403427324794,-3.7634032472831596,-3.763403067054582,-3.7634028866390854,-3.763402706036693,-3.763402525247426,-3.76340234427131,-3.7634021631083656,-3.7634019817586175,-3.763401800222088,-3.7634016184988006,-3.763401436588778,-3.763401254492043,-3.763401072208619,-3.763400889738529,-3.7634007070817956,-3.763400524238442,-3.7634003412084915,-3.763400157991967,-3.763399974588891,-3.7633997909992876,-3.7633996072231786,-3.7633994232605876,-3.7633992391115374,-3.763399054776051,-3.7633988702541514,-3.763398685545862,-3.763398500651205,-3.7633983155702038,-3.763398130302881,-3.7633979448492605,-3.763397759209364,-3.7633975733832155,-3.7633973873708375,-3.7633972011722534,-3.7633970147874853,-3.763396828216557,-3.7633966414594906,-3.7633964545163097,-3.763396267387037,-3.7633960800716957,-3.7633958925703084,-3.763395704882898,-3.7633955170094877,-3.7633953289501005,-3.763395140704759,-3.763394952273486,-3.763394763656305,-3.7633945748532387,-3.7633943858643097,-3.763394196689541,-3.7633940073289556,-3.7633938177825765,-3.7633936280504265,-3.7633934381325287,-3.7633932480289056,-3.7633930577395804,-3.763392867264576,-3.7633926766039147,-3.76339248575762,-3.763392294725715,-3.7633921035082216,-3.7633919121051638,-3.7633917205165637,-3.763391528742445,-3.763391336782829,-3.7633911446377404,-3.763390952307201,-3.7633907597912337,-3.7633905670898615,-3.763390374203107,-3.763390181130994,-3.763389987873544,-3.763389794430781,-3.763389600802727,-3.7633894069894054,-3.763389212990839,-3.76338901880705,-3.7633888244380618,-3.763388629883897,-3.763388435144579,-3.7633882402201295,-3.763388045110572,-3.76338784981593,-3.763387654336225,-3.7633874586714806,-3.7633872628217193,-3.7633870667869638,-3.763386870567237,-3.7633866741625623,-3.7633864775729617,-3.7633862807984584,-3.763386083839075,-3.7633858866948344,-3.763385689365759,-3.763385491851872,-3.7633852941531964,-3.7633850962697544,-3.7633848982015694,-3.7633846999486633,-3.7633845015110596,-3.7633843028887806,-3.7633841040818496,-3.763383905090289,-3.7633837059141215,-3.7633835065533696,-3.763383307008057,-3.763383107278205,-3.763382907363838,-3.7633827072649777,-3.763382506981647,-3.7633823065138685,-3.763382105861665,-3.7633819050250596,-3.763381704004075,-3.763381502798733,-3.7633813014090576,-3.7633810998350707,-3.7633808980767953,-3.763380696134254,-3.7633804940074693],\"type\":\"scatter\",\"marker\":{\"size\":12}}],                        {\"template\":{\"data\":{\"histogram2dcontour\":[{\"type\":\"histogram2dcontour\",\"colorbar\":{\"outlinewidth\":0,\"ticks\":\"\"},\"colorscale\":[[0.0,\"#0d0887\"],[0.1111111111111111,\"#46039f\"],[0.2222222222222222,\"#7201a8\"],[0.3333333333333333,\"#9c179e\"],[0.4444444444444444,\"#bd3786\"],[0.5555555555555556,\"#d8576b\"],[0.6666666666666666,\"#ed7953\"],[0.7777777777777778,\"#fb9f3a\"],[0.8888888888888888,\"#fdca26\"],[1.0,\"#f0f921\"]]}],\"choropleth\":[{\"type\":\"choropleth\",\"colorbar\":{\"outlinewidth\":0,\"ticks\":\"\"}}],\"histogram2d\":[{\"type\":\"histogram2d\",\"colorbar\":{\"outlinewidth\":0,\"ticks\":\"\"},\"colorscale\":[[0.0,\"#0d0887\"],[0.1111111111111111,\"#46039f\"],[0.2222222222222222,\"#7201a8\"],[0.3333333333333333,\"#9c179e\"],[0.4444444444444444,\"#bd3786\"],[0.5555555555555556,\"#d8576b\"],[0.6666666666666666,\"#ed7953\"],[0.7777777777777778,\"#fb9f3a\"],[0.8888888888888888,\"#fdca26\"],[1.0,\"#f0f921\"]]}],\"heatmap\":[{\"type\":\"heatmap\",\"colorbar\":{\"outlinewidth\":0,\"ticks\":\"\"},\"colorscale\":[[0.0,\"#0d0887\"],[0.1111111111111111,\"#46039f\"],[0.2222222222222222,\"#7201a8\"],[0.3333333333333333,\"#9c179e\"],[0.4444444444444444,\"#bd3786\"],[0.5555555555555556,\"#d8576b\"],[0.6666666666666666,\"#ed7953\"],[0.7777777777777778,\"#fb9f3a\"],[0.8888888888888888,\"#fdca26\"],[1.0,\"#f0f921\"]]}],\"heatmapgl\":[{\"type\":\"heatmapgl\",\"colorbar\":{\"outlinewidth\":0,\"ticks\":\"\"},\"colorscale\":[[0.0,\"#0d0887\"],[0.1111111111111111,\"#46039f\"],[0.2222222222222222,\"#7201a8\"],[0.3333333333333333,\"#9c179e\"],[0.4444444444444444,\"#bd3786\"],[0.5555555555555556,\"#d8576b\"],[0.6666666666666666,\"#ed7953\"],[0.7777777777777778,\"#fb9f3a\"],[0.8888888888888888,\"#fdca26\"],[1.0,\"#f0f921\"]]}],\"contourcarpet\":[{\"type\":\"contourcarpet\",\"colorbar\":{\"outlinewidth\":0,\"ticks\":\"\"}}],\"contour\":[{\"type\":\"contour\",\"colorbar\":{\"outlinewidth\":0,\"ticks\":\"\"},\"colorscale\":[[0.0,\"#0d0887\"],[0.1111111111111111,\"#46039f\"],[0.2222222222222222,\"#7201a8\"],[0.3333333333333333,\"#9c179e\"],[0.4444444444444444,\"#bd3786\"],[0.5555555555555556,\"#d8576b\"],[0.6666666666666666,\"#ed7953\"],[0.7777777777777778,\"#fb9f3a\"],[0.8888888888888888,\"#fdca26\"],[1.0,\"#f0f921\"]]}],\"surface\":[{\"type\":\"surface\",\"colorbar\":{\"outlinewidth\":0,\"ticks\":\"\"},\"colorscale\":[[0.0,\"#0d0887\"],[0.1111111111111111,\"#46039f\"],[0.2222222222222222,\"#7201a8\"],[0.3333333333333333,\"#9c179e\"],[0.4444444444444444,\"#bd3786\"],[0.5555555555555556,\"#d8576b\"],[0.6666666666666666,\"#ed7953\"],[0.7777777777777778,\"#fb9f3a\"],[0.8888888888888888,\"#fdca26\"],[1.0,\"#f0f921\"]]}],\"mesh3d\":[{\"type\":\"mesh3d\",\"colorbar\":{\"outlinewidth\":0,\"ticks\":\"\"}}],\"scatter\":[{\"fillpattern\":{\"fillmode\":\"overlay\",\"size\":10,\"solidity\":0.2},\"type\":\"scatter\"}],\"parcoords\":[{\"type\":\"parcoords\",\"line\":{\"colorbar\":{\"outlinewidth\":0,\"ticks\":\"\"}}}],\"scatterpolargl\":[{\"type\":\"scatterpolargl\",\"marker\":{\"colorbar\":{\"outlinewidth\":0,\"ticks\":\"\"}}}],\"bar\":[{\"error_x\":{\"color\":\"#2a3f5f\"},\"error_y\":{\"color\":\"#2a3f5f\"},\"marker\":{\"line\":{\"color\":\"#E5ECF6\",\"width\":0.5},\"pattern\":{\"fillmode\":\"overlay\",\"size\":10,\"solidity\":0.2}},\"type\":\"bar\"}],\"scattergeo\":[{\"type\":\"scattergeo\",\"marker\":{\"colorbar\":{\"outlinewidth\":0,\"ticks\":\"\"}}}],\"scatterpolar\":[{\"type\":\"scatterpolar\",\"marker\":{\"colorbar\":{\"outlinewidth\":0,\"ticks\":\"\"}}}],\"histogram\":[{\"marker\":{\"pattern\":{\"fillmode\":\"overlay\",\"size\":10,\"solidity\":0.2}},\"type\":\"histogram\"}],\"scattergl\":[{\"type\":\"scattergl\",\"marker\":{\"colorbar\":{\"outlinewidth\":0,\"ticks\":\"\"}}}],\"scatter3d\":[{\"type\":\"scatter3d\",\"line\":{\"colorbar\":{\"outlinewidth\":0,\"ticks\":\"\"}},\"marker\":{\"colorbar\":{\"outlinewidth\":0,\"ticks\":\"\"}}}],\"scattermapbox\":[{\"type\":\"scattermapbox\",\"marker\":{\"colorbar\":{\"outlinewidth\":0,\"ticks\":\"\"}}}],\"scatterternary\":[{\"type\":\"scatterternary\",\"marker\":{\"colorbar\":{\"outlinewidth\":0,\"ticks\":\"\"}}}],\"scattercarpet\":[{\"type\":\"scattercarpet\",\"marker\":{\"colorbar\":{\"outlinewidth\":0,\"ticks\":\"\"}}}],\"carpet\":[{\"aaxis\":{\"endlinecolor\":\"#2a3f5f\",\"gridcolor\":\"white\",\"linecolor\":\"white\",\"minorgridcolor\":\"white\",\"startlinecolor\":\"#2a3f5f\"},\"baxis\":{\"endlinecolor\":\"#2a3f5f\",\"gridcolor\":\"white\",\"linecolor\":\"white\",\"minorgridcolor\":\"white\",\"startlinecolor\":\"#2a3f5f\"},\"type\":\"carpet\"}],\"table\":[{\"cells\":{\"fill\":{\"color\":\"#EBF0F8\"},\"line\":{\"color\":\"white\"}},\"header\":{\"fill\":{\"color\":\"#C8D4E3\"},\"line\":{\"color\":\"white\"}},\"type\":\"table\"}],\"barpolar\":[{\"marker\":{\"line\":{\"color\":\"#E5ECF6\",\"width\":0.5},\"pattern\":{\"fillmode\":\"overlay\",\"size\":10,\"solidity\":0.2}},\"type\":\"barpolar\"}],\"pie\":[{\"automargin\":true,\"type\":\"pie\"}]},\"layout\":{\"autotypenumbers\":\"strict\",\"colorway\":[\"#636efa\",\"#EF553B\",\"#00cc96\",\"#ab63fa\",\"#FFA15A\",\"#19d3f3\",\"#FF6692\",\"#B6E880\",\"#FF97FF\",\"#FECB52\"],\"font\":{\"color\":\"#2a3f5f\"},\"hovermode\":\"closest\",\"hoverlabel\":{\"align\":\"left\"},\"paper_bgcolor\":\"white\",\"plot_bgcolor\":\"#E5ECF6\",\"polar\":{\"bgcolor\":\"#E5ECF6\",\"angularaxis\":{\"gridcolor\":\"white\",\"linecolor\":\"white\",\"ticks\":\"\"},\"radialaxis\":{\"gridcolor\":\"white\",\"linecolor\":\"white\",\"ticks\":\"\"}},\"ternary\":{\"bgcolor\":\"#E5ECF6\",\"aaxis\":{\"gridcolor\":\"white\",\"linecolor\":\"white\",\"ticks\":\"\"},\"baxis\":{\"gridcolor\":\"white\",\"linecolor\":\"white\",\"ticks\":\"\"},\"caxis\":{\"gridcolor\":\"white\",\"linecolor\":\"white\",\"ticks\":\"\"}},\"coloraxis\":{\"colorbar\":{\"outlinewidth\":0,\"ticks\":\"\"}},\"colorscale\":{\"sequential\":[[0.0,\"#0d0887\"],[0.1111111111111111,\"#46039f\"],[0.2222222222222222,\"#7201a8\"],[0.3333333333333333,\"#9c179e\"],[0.4444444444444444,\"#bd3786\"],[0.5555555555555556,\"#d8576b\"],[0.6666666666666666,\"#ed7953\"],[0.7777777777777778,\"#fb9f3a\"],[0.8888888888888888,\"#fdca26\"],[1.0,\"#f0f921\"]],\"sequentialminus\":[[0.0,\"#0d0887\"],[0.1111111111111111,\"#46039f\"],[0.2222222222222222,\"#7201a8\"],[0.3333333333333333,\"#9c179e\"],[0.4444444444444444,\"#bd3786\"],[0.5555555555555556,\"#d8576b\"],[0.6666666666666666,\"#ed7953\"],[0.7777777777777778,\"#fb9f3a\"],[0.8888888888888888,\"#fdca26\"],[1.0,\"#f0f921\"]],\"diverging\":[[0,\"#8e0152\"],[0.1,\"#c51b7d\"],[0.2,\"#de77ae\"],[0.3,\"#f1b6da\"],[0.4,\"#fde0ef\"],[0.5,\"#f7f7f7\"],[0.6,\"#e6f5d0\"],[0.7,\"#b8e186\"],[0.8,\"#7fbc41\"],[0.9,\"#4d9221\"],[1,\"#276419\"]]},\"xaxis\":{\"gridcolor\":\"white\",\"linecolor\":\"white\",\"ticks\":\"\",\"title\":{\"standoff\":15},\"zerolinecolor\":\"white\",\"automargin\":true,\"zerolinewidth\":2},\"yaxis\":{\"gridcolor\":\"white\",\"linecolor\":\"white\",\"ticks\":\"\",\"title\":{\"standoff\":15},\"zerolinecolor\":\"white\",\"automargin\":true,\"zerolinewidth\":2},\"scene\":{\"xaxis\":{\"backgroundcolor\":\"#E5ECF6\",\"gridcolor\":\"white\",\"linecolor\":\"white\",\"showbackground\":true,\"ticks\":\"\",\"zerolinecolor\":\"white\",\"gridwidth\":2},\"yaxis\":{\"backgroundcolor\":\"#E5ECF6\",\"gridcolor\":\"white\",\"linecolor\":\"white\",\"showbackground\":true,\"ticks\":\"\",\"zerolinecolor\":\"white\",\"gridwidth\":2},\"zaxis\":{\"backgroundcolor\":\"#E5ECF6\",\"gridcolor\":\"white\",\"linecolor\":\"white\",\"showbackground\":true,\"ticks\":\"\",\"zerolinecolor\":\"white\",\"gridwidth\":2}},\"shapedefaults\":{\"line\":{\"color\":\"#2a3f5f\"}},\"annotationdefaults\":{\"arrowcolor\":\"#2a3f5f\",\"arrowhead\":0,\"arrowwidth\":1},\"geo\":{\"bgcolor\":\"white\",\"landcolor\":\"#E5ECF6\",\"subunitcolor\":\"white\",\"showland\":true,\"showlakes\":true,\"lakecolor\":\"white\"},\"title\":{\"x\":0.05},\"mapbox\":{\"style\":\"light\"}}},\"xaxis\":{\"title\":{\"text\":\"Volume per Si/Ang^3\"}},\"yaxis\":{\"title\":{\"text\":\"Energy per Si/ha\"}}},                        {\"responsive\": true}                    ).then(function(){\n",
              "                            \n",
              "var gd = document.getElementById('67a8d76b-dc51-4355-9b85-741acb1c5680');\n",
              "var x = new MutationObserver(function (mutations, observer) {{\n",
              "        var display = window.getComputedStyle(gd).display;\n",
              "        if (!display || display === 'none') {{\n",
              "            console.log([gd, 'removed!']);\n",
              "            Plotly.purge(gd);\n",
              "            observer.disconnect();\n",
              "        }}\n",
              "}});\n",
              "\n",
              "// Listen for the removal of the full notebook cells\n",
              "var notebookContainer = gd.closest('#notebook-container');\n",
              "if (notebookContainer) {{\n",
              "    x.observe(notebookContainer, {childList: true});\n",
              "}}\n",
              "\n",
              "// Listen for the clearing of the current output cell\n",
              "var outputEl = gd.closest('.output');\n",
              "if (outputEl) {{\n",
              "    x.observe(outputEl, {childList: true});\n",
              "}}\n",
              "\n",
              "                        })                };                            </script>        </div>\n",
              "</body>\n",
              "</html>"
            ]
          },
          "metadata": {}
        }
      ],
      "source": [
        "# Now let's plot the fit, too\n",
        "v_ctd = [42 + 0.001*i for i in range(2000)]\n",
        "fig2 = plotly.graph_objects.Figure()\n",
        "fig2.add_trace(plotly.graph_objects.Scatter(x=v_si, y=energies_si, name=\"LDA Data\", mode='markers'))\n",
        "fig2.add_trace(plotly.graph_objects.Scatter(x=v_ctd, y=[birch_murnaghan_fit(v, *opt_params) for v in v_ctd], name=\"Fit\", mode='lines'))\n",
        "fig2.update_layout(xaxis_title=\"Volume per Si/Ang^3\", yaxis_title=\"Energy per Si/ha\")\n",
        "fig2.update_traces(marker_size=12)\n",
        "fig2.show() # It's interactive!"
      ]
    },
    {
      "cell_type": "markdown",
      "metadata": {
        "id": "HpAaf60JuJXL"
      },
      "source": [
        "## Including single atom energies\n",
        "\n",
        "To improve the equilibrium lattice parameter and bulk modulus estimates, and to estimate the cohesive energy, we need to evaluate the energy of a single Si atom.\n",
        "\n",
        "The cohesive energy is evaluated as the energy difference of the energy an Si atom has in the solid and the energy it has surrounded by no other atom.\n",
        "\n",
        "For the single atom energy, we remove the other atoms but keep their basis functions at the positions they were. We also use the same pseudopotential. This helps correct the basis set superposition error."
      ]
    },
    {
      "cell_type": "code",
      "execution_count": 9,
      "metadata": {
        "id": "JCRSSAZJuJXL",
        "outputId": "4b55c62e-dd81-4053-d7fb-cff0cbfa24fa",
        "colab": {
          "base_uri": "https://localhost:8080/",
          "height": 332
        }
      },
      "outputs": [
        {
          "output_type": "execute_result",
          "data": {
            "text/plain": [
              "   latt_param   E_LDA_s\n",
              "0        5.52 -3.622922\n",
              "1        5.53 -3.622922\n",
              "2        5.54 -3.622922\n",
              "3        5.55 -3.622923\n",
              "4        5.56 -3.622924\n",
              "5        5.57 -3.622925\n",
              "6        5.58 -3.622926\n",
              "7        5.59 -3.622927\n",
              "8        5.60 -3.622926"
            ],
            "text/html": [
              "\n",
              "  <div id=\"df-cb9dcdb4-3d96-4a93-b80b-1ce127cbebac\" class=\"colab-df-container\">\n",
              "    <div>\n",
              "<style scoped>\n",
              "    .dataframe tbody tr th:only-of-type {\n",
              "        vertical-align: middle;\n",
              "    }\n",
              "\n",
              "    .dataframe tbody tr th {\n",
              "        vertical-align: top;\n",
              "    }\n",
              "\n",
              "    .dataframe thead th {\n",
              "        text-align: right;\n",
              "    }\n",
              "</style>\n",
              "<table border=\"1\" class=\"dataframe\">\n",
              "  <thead>\n",
              "    <tr style=\"text-align: right;\">\n",
              "      <th></th>\n",
              "      <th>latt_param</th>\n",
              "      <th>E_LDA_s</th>\n",
              "    </tr>\n",
              "  </thead>\n",
              "  <tbody>\n",
              "    <tr>\n",
              "      <th>0</th>\n",
              "      <td>5.52</td>\n",
              "      <td>-3.622922</td>\n",
              "    </tr>\n",
              "    <tr>\n",
              "      <th>1</th>\n",
              "      <td>5.53</td>\n",
              "      <td>-3.622922</td>\n",
              "    </tr>\n",
              "    <tr>\n",
              "      <th>2</th>\n",
              "      <td>5.54</td>\n",
              "      <td>-3.622922</td>\n",
              "    </tr>\n",
              "    <tr>\n",
              "      <th>3</th>\n",
              "      <td>5.55</td>\n",
              "      <td>-3.622923</td>\n",
              "    </tr>\n",
              "    <tr>\n",
              "      <th>4</th>\n",
              "      <td>5.56</td>\n",
              "      <td>-3.622924</td>\n",
              "    </tr>\n",
              "    <tr>\n",
              "      <th>5</th>\n",
              "      <td>5.57</td>\n",
              "      <td>-3.622925</td>\n",
              "    </tr>\n",
              "    <tr>\n",
              "      <th>6</th>\n",
              "      <td>5.58</td>\n",
              "      <td>-3.622926</td>\n",
              "    </tr>\n",
              "    <tr>\n",
              "      <th>7</th>\n",
              "      <td>5.59</td>\n",
              "      <td>-3.622927</td>\n",
              "    </tr>\n",
              "    <tr>\n",
              "      <th>8</th>\n",
              "      <td>5.60</td>\n",
              "      <td>-3.622926</td>\n",
              "    </tr>\n",
              "  </tbody>\n",
              "</table>\n",
              "</div>\n",
              "    <div class=\"colab-df-buttons\">\n",
              "\n",
              "  <div class=\"colab-df-container\">\n",
              "    <button class=\"colab-df-convert\" onclick=\"convertToInteractive('df-cb9dcdb4-3d96-4a93-b80b-1ce127cbebac')\"\n",
              "            title=\"Convert this dataframe to an interactive table.\"\n",
              "            style=\"display:none;\">\n",
              "\n",
              "  <svg xmlns=\"http://www.w3.org/2000/svg\" height=\"24px\" viewBox=\"0 -960 960 960\">\n",
              "    <path d=\"M120-120v-720h720v720H120Zm60-500h600v-160H180v160Zm220 220h160v-160H400v160Zm0 220h160v-160H400v160ZM180-400h160v-160H180v160Zm440 0h160v-160H620v160ZM180-180h160v-160H180v160Zm440 0h160v-160H620v160Z\"/>\n",
              "  </svg>\n",
              "    </button>\n",
              "\n",
              "  <style>\n",
              "    .colab-df-container {\n",
              "      display:flex;\n",
              "      gap: 12px;\n",
              "    }\n",
              "\n",
              "    .colab-df-convert {\n",
              "      background-color: #E8F0FE;\n",
              "      border: none;\n",
              "      border-radius: 50%;\n",
              "      cursor: pointer;\n",
              "      display: none;\n",
              "      fill: #1967D2;\n",
              "      height: 32px;\n",
              "      padding: 0 0 0 0;\n",
              "      width: 32px;\n",
              "    }\n",
              "\n",
              "    .colab-df-convert:hover {\n",
              "      background-color: #E2EBFA;\n",
              "      box-shadow: 0px 1px 2px rgba(60, 64, 67, 0.3), 0px 1px 3px 1px rgba(60, 64, 67, 0.15);\n",
              "      fill: #174EA6;\n",
              "    }\n",
              "\n",
              "    .colab-df-buttons div {\n",
              "      margin-bottom: 4px;\n",
              "    }\n",
              "\n",
              "    [theme=dark] .colab-df-convert {\n",
              "      background-color: #3B4455;\n",
              "      fill: #D2E3FC;\n",
              "    }\n",
              "\n",
              "    [theme=dark] .colab-df-convert:hover {\n",
              "      background-color: #434B5C;\n",
              "      box-shadow: 0px 1px 3px 1px rgba(0, 0, 0, 0.15);\n",
              "      filter: drop-shadow(0px 1px 2px rgba(0, 0, 0, 0.3));\n",
              "      fill: #FFFFFF;\n",
              "    }\n",
              "  </style>\n",
              "\n",
              "    <script>\n",
              "      const buttonEl =\n",
              "        document.querySelector('#df-cb9dcdb4-3d96-4a93-b80b-1ce127cbebac button.colab-df-convert');\n",
              "      buttonEl.style.display =\n",
              "        google.colab.kernel.accessAllowed ? 'block' : 'none';\n",
              "\n",
              "      async function convertToInteractive(key) {\n",
              "        const element = document.querySelector('#df-cb9dcdb4-3d96-4a93-b80b-1ce127cbebac');\n",
              "        const dataTable =\n",
              "          await google.colab.kernel.invokeFunction('convertToInteractive',\n",
              "                                                    [key], {});\n",
              "        if (!dataTable) return;\n",
              "\n",
              "        const docLinkHtml = 'Like what you see? Visit the ' +\n",
              "          '<a target=\"_blank\" href=https://colab.research.google.com/notebooks/data_table.ipynb>data table notebook</a>'\n",
              "          + ' to learn more about interactive tables.';\n",
              "        element.innerHTML = '';\n",
              "        dataTable['output_type'] = 'display_data';\n",
              "        await google.colab.output.renderOutput(dataTable, element);\n",
              "        const docLink = document.createElement('div');\n",
              "        docLink.innerHTML = docLinkHtml;\n",
              "        element.appendChild(docLink);\n",
              "      }\n",
              "    </script>\n",
              "  </div>\n",
              "\n",
              "\n",
              "<div id=\"df-cdde0096-c6c0-47e0-abe1-6842460f8e98\">\n",
              "  <button class=\"colab-df-quickchart\" onclick=\"quickchart('df-cdde0096-c6c0-47e0-abe1-6842460f8e98')\"\n",
              "            title=\"Suggest charts\"\n",
              "            style=\"display:none;\">\n",
              "\n",
              "<svg xmlns=\"http://www.w3.org/2000/svg\" height=\"24px\"viewBox=\"0 0 24 24\"\n",
              "     width=\"24px\">\n",
              "    <g>\n",
              "        <path d=\"M19 3H5c-1.1 0-2 .9-2 2v14c0 1.1.9 2 2 2h14c1.1 0 2-.9 2-2V5c0-1.1-.9-2-2-2zM9 17H7v-7h2v7zm4 0h-2V7h2v10zm4 0h-2v-4h2v4z\"/>\n",
              "    </g>\n",
              "</svg>\n",
              "  </button>\n",
              "\n",
              "<style>\n",
              "  .colab-df-quickchart {\n",
              "      --bg-color: #E8F0FE;\n",
              "      --fill-color: #1967D2;\n",
              "      --hover-bg-color: #E2EBFA;\n",
              "      --hover-fill-color: #174EA6;\n",
              "      --disabled-fill-color: #AAA;\n",
              "      --disabled-bg-color: #DDD;\n",
              "  }\n",
              "\n",
              "  [theme=dark] .colab-df-quickchart {\n",
              "      --bg-color: #3B4455;\n",
              "      --fill-color: #D2E3FC;\n",
              "      --hover-bg-color: #434B5C;\n",
              "      --hover-fill-color: #FFFFFF;\n",
              "      --disabled-bg-color: #3B4455;\n",
              "      --disabled-fill-color: #666;\n",
              "  }\n",
              "\n",
              "  .colab-df-quickchart {\n",
              "    background-color: var(--bg-color);\n",
              "    border: none;\n",
              "    border-radius: 50%;\n",
              "    cursor: pointer;\n",
              "    display: none;\n",
              "    fill: var(--fill-color);\n",
              "    height: 32px;\n",
              "    padding: 0;\n",
              "    width: 32px;\n",
              "  }\n",
              "\n",
              "  .colab-df-quickchart:hover {\n",
              "    background-color: var(--hover-bg-color);\n",
              "    box-shadow: 0 1px 2px rgba(60, 64, 67, 0.3), 0 1px 3px 1px rgba(60, 64, 67, 0.15);\n",
              "    fill: var(--button-hover-fill-color);\n",
              "  }\n",
              "\n",
              "  .colab-df-quickchart-complete:disabled,\n",
              "  .colab-df-quickchart-complete:disabled:hover {\n",
              "    background-color: var(--disabled-bg-color);\n",
              "    fill: var(--disabled-fill-color);\n",
              "    box-shadow: none;\n",
              "  }\n",
              "\n",
              "  .colab-df-spinner {\n",
              "    border: 2px solid var(--fill-color);\n",
              "    border-color: transparent;\n",
              "    border-bottom-color: var(--fill-color);\n",
              "    animation:\n",
              "      spin 1s steps(1) infinite;\n",
              "  }\n",
              "\n",
              "  @keyframes spin {\n",
              "    0% {\n",
              "      border-color: transparent;\n",
              "      border-bottom-color: var(--fill-color);\n",
              "      border-left-color: var(--fill-color);\n",
              "    }\n",
              "    20% {\n",
              "      border-color: transparent;\n",
              "      border-left-color: var(--fill-color);\n",
              "      border-top-color: var(--fill-color);\n",
              "    }\n",
              "    30% {\n",
              "      border-color: transparent;\n",
              "      border-left-color: var(--fill-color);\n",
              "      border-top-color: var(--fill-color);\n",
              "      border-right-color: var(--fill-color);\n",
              "    }\n",
              "    40% {\n",
              "      border-color: transparent;\n",
              "      border-right-color: var(--fill-color);\n",
              "      border-top-color: var(--fill-color);\n",
              "    }\n",
              "    60% {\n",
              "      border-color: transparent;\n",
              "      border-right-color: var(--fill-color);\n",
              "    }\n",
              "    80% {\n",
              "      border-color: transparent;\n",
              "      border-right-color: var(--fill-color);\n",
              "      border-bottom-color: var(--fill-color);\n",
              "    }\n",
              "    90% {\n",
              "      border-color: transparent;\n",
              "      border-bottom-color: var(--fill-color);\n",
              "    }\n",
              "  }\n",
              "</style>\n",
              "\n",
              "  <script>\n",
              "    async function quickchart(key) {\n",
              "      const quickchartButtonEl =\n",
              "        document.querySelector('#' + key + ' button');\n",
              "      quickchartButtonEl.disabled = true;  // To prevent multiple clicks.\n",
              "      quickchartButtonEl.classList.add('colab-df-spinner');\n",
              "      try {\n",
              "        const charts = await google.colab.kernel.invokeFunction(\n",
              "            'suggestCharts', [key], {});\n",
              "      } catch (error) {\n",
              "        console.error('Error during call to suggestCharts:', error);\n",
              "      }\n",
              "      quickchartButtonEl.classList.remove('colab-df-spinner');\n",
              "      quickchartButtonEl.classList.add('colab-df-quickchart-complete');\n",
              "    }\n",
              "    (() => {\n",
              "      let quickchartButtonEl =\n",
              "        document.querySelector('#df-cdde0096-c6c0-47e0-abe1-6842460f8e98 button');\n",
              "      quickchartButtonEl.style.display =\n",
              "        google.colab.kernel.accessAllowed ? 'block' : 'none';\n",
              "    })();\n",
              "  </script>\n",
              "</div>\n",
              "\n",
              "  <div id=\"id_14d1d9c6-ddce-4b97-80d4-e4bade536885\">\n",
              "    <style>\n",
              "      .colab-df-generate {\n",
              "        background-color: #E8F0FE;\n",
              "        border: none;\n",
              "        border-radius: 50%;\n",
              "        cursor: pointer;\n",
              "        display: none;\n",
              "        fill: #1967D2;\n",
              "        height: 32px;\n",
              "        padding: 0 0 0 0;\n",
              "        width: 32px;\n",
              "      }\n",
              "\n",
              "      .colab-df-generate:hover {\n",
              "        background-color: #E2EBFA;\n",
              "        box-shadow: 0px 1px 2px rgba(60, 64, 67, 0.3), 0px 1px 3px 1px rgba(60, 64, 67, 0.15);\n",
              "        fill: #174EA6;\n",
              "      }\n",
              "\n",
              "      [theme=dark] .colab-df-generate {\n",
              "        background-color: #3B4455;\n",
              "        fill: #D2E3FC;\n",
              "      }\n",
              "\n",
              "      [theme=dark] .colab-df-generate:hover {\n",
              "        background-color: #434B5C;\n",
              "        box-shadow: 0px 1px 3px 1px rgba(0, 0, 0, 0.15);\n",
              "        filter: drop-shadow(0px 1px 2px rgba(0, 0, 0, 0.3));\n",
              "        fill: #FFFFFF;\n",
              "      }\n",
              "    </style>\n",
              "    <button class=\"colab-df-generate\" onclick=\"generateWithVariable('single_energies')\"\n",
              "            title=\"Generate code using this dataframe.\"\n",
              "            style=\"display:none;\">\n",
              "\n",
              "  <svg xmlns=\"http://www.w3.org/2000/svg\" height=\"24px\"viewBox=\"0 0 24 24\"\n",
              "       width=\"24px\">\n",
              "    <path d=\"M7,19H8.4L18.45,9,17,7.55,7,17.6ZM5,21V16.75L18.45,3.32a2,2,0,0,1,2.83,0l1.4,1.43a1.91,1.91,0,0,1,.58,1.4,1.91,1.91,0,0,1-.58,1.4L9.25,21ZM18.45,9,17,7.55Zm-12,3A5.31,5.31,0,0,0,4.9,8.1,5.31,5.31,0,0,0,1,6.5,5.31,5.31,0,0,0,4.9,4.9,5.31,5.31,0,0,0,6.5,1,5.31,5.31,0,0,0,8.1,4.9,5.31,5.31,0,0,0,12,6.5,5.46,5.46,0,0,0,6.5,12Z\"/>\n",
              "  </svg>\n",
              "    </button>\n",
              "    <script>\n",
              "      (() => {\n",
              "      const buttonEl =\n",
              "        document.querySelector('#id_14d1d9c6-ddce-4b97-80d4-e4bade536885 button.colab-df-generate');\n",
              "      buttonEl.style.display =\n",
              "        google.colab.kernel.accessAllowed ? 'block' : 'none';\n",
              "\n",
              "      buttonEl.onclick = () => {\n",
              "        google.colab.notebook.generateWithVariable('single_energies');\n",
              "      }\n",
              "      })();\n",
              "    </script>\n",
              "  </div>\n",
              "\n",
              "    </div>\n",
              "  </div>\n"
            ],
            "application/vnd.google.colaboratory.intrinsic+json": {
              "type": "dataframe",
              "variable_name": "single_energies",
              "summary": "{\n  \"name\": \"single_energies\",\n  \"rows\": 9,\n  \"fields\": [\n    {\n      \"column\": \"latt_param\",\n      \"properties\": {\n        \"dtype\": \"number\",\n        \"std\": 0.02738612787525829,\n        \"min\": 5.52,\n        \"max\": 5.6,\n        \"num_unique_values\": 9,\n        \"samples\": [\n          5.59,\n          5.53,\n          5.57\n        ],\n        \"semantic_type\": \"\",\n        \"description\": \"\"\n      }\n    },\n    {\n      \"column\": \"E_LDA_s\",\n      \"properties\": {\n        \"dtype\": \"number\",\n        \"std\": 1.9319016099216353e-06,\n        \"min\": -3.622926871590588,\n        \"max\": -3.622921557772764,\n        \"num_unique_values\": 9,\n        \"samples\": [\n          -3.622926871590588,\n          -3.62292196154122,\n          -3.6229249777570565\n        ],\n        \"semantic_type\": \"\",\n        \"description\": \"\"\n      }\n    }\n  ]\n}"
            }
          },
          "metadata": {},
          "execution_count": 9
        }
      ],
      "source": [
        "# This dictionary gives (not quite converged) single Si atom energies.\n",
        "single_energies_si = {\"latt_param\": [5.52, 5.53, 5.54, 5.55, 5.56, 5.57, 5.58, 5.59, 5.6],\n",
        "                      \"E_LDA_s\": [-3.622921557772764, -3.62292196154122, -3.622922391188982, -3.6229232993272307,\n",
        "                                  -3.622924186113336, -3.6229249777570565, -3.6229255226694903, -3.622926871590588,\n",
        "                                  -3.622926286317038]}\n",
        "single_energies = pd.DataFrame(single_energies_si)\n",
        "single_energies"
      ]
    },
    {
      "cell_type": "code",
      "execution_count": 10,
      "metadata": {
        "id": "oZBcD4FzuJXL",
        "outputId": "532f203b-1110-4a3c-9797-ef314728fa19",
        "colab": {
          "base_uri": "https://localhost:8080/",
          "height": 332
        }
      },
      "outputs": [
        {
          "output_type": "execute_result",
          "data": {
            "text/plain": [
              "   latt_param   E_LDA_b   E_LDA_s  E_LDA_diff\n",
              "0        5.52 -3.763395 -3.622922   -0.140473\n",
              "1        5.53 -3.763435 -3.622922   -0.140513\n",
              "2        5.54 -3.763464 -3.622922   -0.140542\n",
              "3        5.55 -3.763481 -3.622923   -0.140558\n",
              "4        5.56 -3.763487 -3.622924   -0.140563\n",
              "5        5.57 -3.763481 -3.622925   -0.140556\n",
              "6        5.58 -3.763465 -3.622926   -0.140539\n",
              "7        5.59 -3.763437 -3.622927   -0.140510\n",
              "8        5.60 -3.763399 -3.622926   -0.140473"
            ],
            "text/html": [
              "\n",
              "  <div id=\"df-76f73c2e-1e83-4458-882d-96aed9087761\" class=\"colab-df-container\">\n",
              "    <div>\n",
              "<style scoped>\n",
              "    .dataframe tbody tr th:only-of-type {\n",
              "        vertical-align: middle;\n",
              "    }\n",
              "\n",
              "    .dataframe tbody tr th {\n",
              "        vertical-align: top;\n",
              "    }\n",
              "\n",
              "    .dataframe thead th {\n",
              "        text-align: right;\n",
              "    }\n",
              "</style>\n",
              "<table border=\"1\" class=\"dataframe\">\n",
              "  <thead>\n",
              "    <tr style=\"text-align: right;\">\n",
              "      <th></th>\n",
              "      <th>latt_param</th>\n",
              "      <th>E_LDA_b</th>\n",
              "      <th>E_LDA_s</th>\n",
              "      <th>E_LDA_diff</th>\n",
              "    </tr>\n",
              "  </thead>\n",
              "  <tbody>\n",
              "    <tr>\n",
              "      <th>0</th>\n",
              "      <td>5.52</td>\n",
              "      <td>-3.763395</td>\n",
              "      <td>-3.622922</td>\n",
              "      <td>-0.140473</td>\n",
              "    </tr>\n",
              "    <tr>\n",
              "      <th>1</th>\n",
              "      <td>5.53</td>\n",
              "      <td>-3.763435</td>\n",
              "      <td>-3.622922</td>\n",
              "      <td>-0.140513</td>\n",
              "    </tr>\n",
              "    <tr>\n",
              "      <th>2</th>\n",
              "      <td>5.54</td>\n",
              "      <td>-3.763464</td>\n",
              "      <td>-3.622922</td>\n",
              "      <td>-0.140542</td>\n",
              "    </tr>\n",
              "    <tr>\n",
              "      <th>3</th>\n",
              "      <td>5.55</td>\n",
              "      <td>-3.763481</td>\n",
              "      <td>-3.622923</td>\n",
              "      <td>-0.140558</td>\n",
              "    </tr>\n",
              "    <tr>\n",
              "      <th>4</th>\n",
              "      <td>5.56</td>\n",
              "      <td>-3.763487</td>\n",
              "      <td>-3.622924</td>\n",
              "      <td>-0.140563</td>\n",
              "    </tr>\n",
              "    <tr>\n",
              "      <th>5</th>\n",
              "      <td>5.57</td>\n",
              "      <td>-3.763481</td>\n",
              "      <td>-3.622925</td>\n",
              "      <td>-0.140556</td>\n",
              "    </tr>\n",
              "    <tr>\n",
              "      <th>6</th>\n",
              "      <td>5.58</td>\n",
              "      <td>-3.763465</td>\n",
              "      <td>-3.622926</td>\n",
              "      <td>-0.140539</td>\n",
              "    </tr>\n",
              "    <tr>\n",
              "      <th>7</th>\n",
              "      <td>5.59</td>\n",
              "      <td>-3.763437</td>\n",
              "      <td>-3.622927</td>\n",
              "      <td>-0.140510</td>\n",
              "    </tr>\n",
              "    <tr>\n",
              "      <th>8</th>\n",
              "      <td>5.60</td>\n",
              "      <td>-3.763399</td>\n",
              "      <td>-3.622926</td>\n",
              "      <td>-0.140473</td>\n",
              "    </tr>\n",
              "  </tbody>\n",
              "</table>\n",
              "</div>\n",
              "    <div class=\"colab-df-buttons\">\n",
              "\n",
              "  <div class=\"colab-df-container\">\n",
              "    <button class=\"colab-df-convert\" onclick=\"convertToInteractive('df-76f73c2e-1e83-4458-882d-96aed9087761')\"\n",
              "            title=\"Convert this dataframe to an interactive table.\"\n",
              "            style=\"display:none;\">\n",
              "\n",
              "  <svg xmlns=\"http://www.w3.org/2000/svg\" height=\"24px\" viewBox=\"0 -960 960 960\">\n",
              "    <path d=\"M120-120v-720h720v720H120Zm60-500h600v-160H180v160Zm220 220h160v-160H400v160Zm0 220h160v-160H400v160ZM180-400h160v-160H180v160Zm440 0h160v-160H620v160ZM180-180h160v-160H180v160Zm440 0h160v-160H620v160Z\"/>\n",
              "  </svg>\n",
              "    </button>\n",
              "\n",
              "  <style>\n",
              "    .colab-df-container {\n",
              "      display:flex;\n",
              "      gap: 12px;\n",
              "    }\n",
              "\n",
              "    .colab-df-convert {\n",
              "      background-color: #E8F0FE;\n",
              "      border: none;\n",
              "      border-radius: 50%;\n",
              "      cursor: pointer;\n",
              "      display: none;\n",
              "      fill: #1967D2;\n",
              "      height: 32px;\n",
              "      padding: 0 0 0 0;\n",
              "      width: 32px;\n",
              "    }\n",
              "\n",
              "    .colab-df-convert:hover {\n",
              "      background-color: #E2EBFA;\n",
              "      box-shadow: 0px 1px 2px rgba(60, 64, 67, 0.3), 0px 1px 3px 1px rgba(60, 64, 67, 0.15);\n",
              "      fill: #174EA6;\n",
              "    }\n",
              "\n",
              "    .colab-df-buttons div {\n",
              "      margin-bottom: 4px;\n",
              "    }\n",
              "\n",
              "    [theme=dark] .colab-df-convert {\n",
              "      background-color: #3B4455;\n",
              "      fill: #D2E3FC;\n",
              "    }\n",
              "\n",
              "    [theme=dark] .colab-df-convert:hover {\n",
              "      background-color: #434B5C;\n",
              "      box-shadow: 0px 1px 3px 1px rgba(0, 0, 0, 0.15);\n",
              "      filter: drop-shadow(0px 1px 2px rgba(0, 0, 0, 0.3));\n",
              "      fill: #FFFFFF;\n",
              "    }\n",
              "  </style>\n",
              "\n",
              "    <script>\n",
              "      const buttonEl =\n",
              "        document.querySelector('#df-76f73c2e-1e83-4458-882d-96aed9087761 button.colab-df-convert');\n",
              "      buttonEl.style.display =\n",
              "        google.colab.kernel.accessAllowed ? 'block' : 'none';\n",
              "\n",
              "      async function convertToInteractive(key) {\n",
              "        const element = document.querySelector('#df-76f73c2e-1e83-4458-882d-96aed9087761');\n",
              "        const dataTable =\n",
              "          await google.colab.kernel.invokeFunction('convertToInteractive',\n",
              "                                                    [key], {});\n",
              "        if (!dataTable) return;\n",
              "\n",
              "        const docLinkHtml = 'Like what you see? Visit the ' +\n",
              "          '<a target=\"_blank\" href=https://colab.research.google.com/notebooks/data_table.ipynb>data table notebook</a>'\n",
              "          + ' to learn more about interactive tables.';\n",
              "        element.innerHTML = '';\n",
              "        dataTable['output_type'] = 'display_data';\n",
              "        await google.colab.output.renderOutput(dataTable, element);\n",
              "        const docLink = document.createElement('div');\n",
              "        docLink.innerHTML = docLinkHtml;\n",
              "        element.appendChild(docLink);\n",
              "      }\n",
              "    </script>\n",
              "  </div>\n",
              "\n",
              "\n",
              "<div id=\"df-b1d92a10-3e49-43fb-8dd9-09a245081402\">\n",
              "  <button class=\"colab-df-quickchart\" onclick=\"quickchart('df-b1d92a10-3e49-43fb-8dd9-09a245081402')\"\n",
              "            title=\"Suggest charts\"\n",
              "            style=\"display:none;\">\n",
              "\n",
              "<svg xmlns=\"http://www.w3.org/2000/svg\" height=\"24px\"viewBox=\"0 0 24 24\"\n",
              "     width=\"24px\">\n",
              "    <g>\n",
              "        <path d=\"M19 3H5c-1.1 0-2 .9-2 2v14c0 1.1.9 2 2 2h14c1.1 0 2-.9 2-2V5c0-1.1-.9-2-2-2zM9 17H7v-7h2v7zm4 0h-2V7h2v10zm4 0h-2v-4h2v4z\"/>\n",
              "    </g>\n",
              "</svg>\n",
              "  </button>\n",
              "\n",
              "<style>\n",
              "  .colab-df-quickchart {\n",
              "      --bg-color: #E8F0FE;\n",
              "      --fill-color: #1967D2;\n",
              "      --hover-bg-color: #E2EBFA;\n",
              "      --hover-fill-color: #174EA6;\n",
              "      --disabled-fill-color: #AAA;\n",
              "      --disabled-bg-color: #DDD;\n",
              "  }\n",
              "\n",
              "  [theme=dark] .colab-df-quickchart {\n",
              "      --bg-color: #3B4455;\n",
              "      --fill-color: #D2E3FC;\n",
              "      --hover-bg-color: #434B5C;\n",
              "      --hover-fill-color: #FFFFFF;\n",
              "      --disabled-bg-color: #3B4455;\n",
              "      --disabled-fill-color: #666;\n",
              "  }\n",
              "\n",
              "  .colab-df-quickchart {\n",
              "    background-color: var(--bg-color);\n",
              "    border: none;\n",
              "    border-radius: 50%;\n",
              "    cursor: pointer;\n",
              "    display: none;\n",
              "    fill: var(--fill-color);\n",
              "    height: 32px;\n",
              "    padding: 0;\n",
              "    width: 32px;\n",
              "  }\n",
              "\n",
              "  .colab-df-quickchart:hover {\n",
              "    background-color: var(--hover-bg-color);\n",
              "    box-shadow: 0 1px 2px rgba(60, 64, 67, 0.3), 0 1px 3px 1px rgba(60, 64, 67, 0.15);\n",
              "    fill: var(--button-hover-fill-color);\n",
              "  }\n",
              "\n",
              "  .colab-df-quickchart-complete:disabled,\n",
              "  .colab-df-quickchart-complete:disabled:hover {\n",
              "    background-color: var(--disabled-bg-color);\n",
              "    fill: var(--disabled-fill-color);\n",
              "    box-shadow: none;\n",
              "  }\n",
              "\n",
              "  .colab-df-spinner {\n",
              "    border: 2px solid var(--fill-color);\n",
              "    border-color: transparent;\n",
              "    border-bottom-color: var(--fill-color);\n",
              "    animation:\n",
              "      spin 1s steps(1) infinite;\n",
              "  }\n",
              "\n",
              "  @keyframes spin {\n",
              "    0% {\n",
              "      border-color: transparent;\n",
              "      border-bottom-color: var(--fill-color);\n",
              "      border-left-color: var(--fill-color);\n",
              "    }\n",
              "    20% {\n",
              "      border-color: transparent;\n",
              "      border-left-color: var(--fill-color);\n",
              "      border-top-color: var(--fill-color);\n",
              "    }\n",
              "    30% {\n",
              "      border-color: transparent;\n",
              "      border-left-color: var(--fill-color);\n",
              "      border-top-color: var(--fill-color);\n",
              "      border-right-color: var(--fill-color);\n",
              "    }\n",
              "    40% {\n",
              "      border-color: transparent;\n",
              "      border-right-color: var(--fill-color);\n",
              "      border-top-color: var(--fill-color);\n",
              "    }\n",
              "    60% {\n",
              "      border-color: transparent;\n",
              "      border-right-color: var(--fill-color);\n",
              "    }\n",
              "    80% {\n",
              "      border-color: transparent;\n",
              "      border-right-color: var(--fill-color);\n",
              "      border-bottom-color: var(--fill-color);\n",
              "    }\n",
              "    90% {\n",
              "      border-color: transparent;\n",
              "      border-bottom-color: var(--fill-color);\n",
              "    }\n",
              "  }\n",
              "</style>\n",
              "\n",
              "  <script>\n",
              "    async function quickchart(key) {\n",
              "      const quickchartButtonEl =\n",
              "        document.querySelector('#' + key + ' button');\n",
              "      quickchartButtonEl.disabled = true;  // To prevent multiple clicks.\n",
              "      quickchartButtonEl.classList.add('colab-df-spinner');\n",
              "      try {\n",
              "        const charts = await google.colab.kernel.invokeFunction(\n",
              "            'suggestCharts', [key], {});\n",
              "      } catch (error) {\n",
              "        console.error('Error during call to suggestCharts:', error);\n",
              "      }\n",
              "      quickchartButtonEl.classList.remove('colab-df-spinner');\n",
              "      quickchartButtonEl.classList.add('colab-df-quickchart-complete');\n",
              "    }\n",
              "    (() => {\n",
              "      let quickchartButtonEl =\n",
              "        document.querySelector('#df-b1d92a10-3e49-43fb-8dd9-09a245081402 button');\n",
              "      quickchartButtonEl.style.display =\n",
              "        google.colab.kernel.accessAllowed ? 'block' : 'none';\n",
              "    })();\n",
              "  </script>\n",
              "</div>\n",
              "\n",
              "  <div id=\"id_994fd8b6-d6ba-4d74-9b1e-1159130234dc\">\n",
              "    <style>\n",
              "      .colab-df-generate {\n",
              "        background-color: #E8F0FE;\n",
              "        border: none;\n",
              "        border-radius: 50%;\n",
              "        cursor: pointer;\n",
              "        display: none;\n",
              "        fill: #1967D2;\n",
              "        height: 32px;\n",
              "        padding: 0 0 0 0;\n",
              "        width: 32px;\n",
              "      }\n",
              "\n",
              "      .colab-df-generate:hover {\n",
              "        background-color: #E2EBFA;\n",
              "        box-shadow: 0px 1px 2px rgba(60, 64, 67, 0.3), 0px 1px 3px 1px rgba(60, 64, 67, 0.15);\n",
              "        fill: #174EA6;\n",
              "      }\n",
              "\n",
              "      [theme=dark] .colab-df-generate {\n",
              "        background-color: #3B4455;\n",
              "        fill: #D2E3FC;\n",
              "      }\n",
              "\n",
              "      [theme=dark] .colab-df-generate:hover {\n",
              "        background-color: #434B5C;\n",
              "        box-shadow: 0px 1px 3px 1px rgba(0, 0, 0, 0.15);\n",
              "        filter: drop-shadow(0px 1px 2px rgba(0, 0, 0, 0.3));\n",
              "        fill: #FFFFFF;\n",
              "      }\n",
              "    </style>\n",
              "    <button class=\"colab-df-generate\" onclick=\"generateWithVariable('bulk_energies')\"\n",
              "            title=\"Generate code using this dataframe.\"\n",
              "            style=\"display:none;\">\n",
              "\n",
              "  <svg xmlns=\"http://www.w3.org/2000/svg\" height=\"24px\"viewBox=\"0 0 24 24\"\n",
              "       width=\"24px\">\n",
              "    <path d=\"M7,19H8.4L18.45,9,17,7.55,7,17.6ZM5,21V16.75L18.45,3.32a2,2,0,0,1,2.83,0l1.4,1.43a1.91,1.91,0,0,1,.58,1.4,1.91,1.91,0,0,1-.58,1.4L9.25,21ZM18.45,9,17,7.55Zm-12,3A5.31,5.31,0,0,0,4.9,8.1,5.31,5.31,0,0,0,1,6.5,5.31,5.31,0,0,0,4.9,4.9,5.31,5.31,0,0,0,6.5,1,5.31,5.31,0,0,0,8.1,4.9,5.31,5.31,0,0,0,12,6.5,5.46,5.46,0,0,0,6.5,12Z\"/>\n",
              "  </svg>\n",
              "    </button>\n",
              "    <script>\n",
              "      (() => {\n",
              "      const buttonEl =\n",
              "        document.querySelector('#id_994fd8b6-d6ba-4d74-9b1e-1159130234dc button.colab-df-generate');\n",
              "      buttonEl.style.display =\n",
              "        google.colab.kernel.accessAllowed ? 'block' : 'none';\n",
              "\n",
              "      buttonEl.onclick = () => {\n",
              "        google.colab.notebook.generateWithVariable('bulk_energies');\n",
              "      }\n",
              "      })();\n",
              "    </script>\n",
              "  </div>\n",
              "\n",
              "    </div>\n",
              "  </div>\n"
            ],
            "application/vnd.google.colaboratory.intrinsic+json": {
              "type": "dataframe",
              "variable_name": "bulk_energies",
              "summary": "{\n  \"name\": \"bulk_energies\",\n  \"rows\": 9,\n  \"fields\": [\n    {\n      \"column\": \"latt_param\",\n      \"properties\": {\n        \"dtype\": \"number\",\n        \"std\": 0.02738612787525829,\n        \"min\": 5.52,\n        \"max\": 5.6,\n        \"num_unique_values\": 9,\n        \"samples\": [\n          5.59,\n          5.53,\n          5.57\n        ],\n        \"semantic_type\": \"\",\n        \"description\": \"\"\n      }\n    },\n    {\n      \"column\": \"E_LDA_b\",\n      \"properties\": {\n        \"dtype\": \"number\",\n        \"std\": 3.491706096682029e-05,\n        \"min\": -3.7634867880824925,\n        \"max\": -3.76339472360935,\n        \"num_unique_values\": 9,\n        \"samples\": [\n          -3.763437025899391,\n          -3.763435323586073,\n          -3.7634811806832054\n        ],\n        \"semantic_type\": \"\",\n        \"description\": \"\"\n      }\n    },\n    {\n      \"column\": \"E_LDA_s\",\n      \"properties\": {\n        \"dtype\": \"number\",\n        \"std\": 1.9319016099216353e-06,\n        \"min\": -3.622926871590588,\n        \"max\": -3.622921557772764,\n        \"num_unique_values\": 9,\n        \"samples\": [\n          -3.622926871590588,\n          -3.62292196154122,\n          -3.6229249777570565\n        ],\n        \"semantic_type\": \"\",\n        \"description\": \"\"\n      }\n    },\n    {\n      \"column\": \"E_LDA_diff\",\n      \"properties\": {\n        \"dtype\": \"number\",\n        \"std\": 3.4875581458932896e-05,\n        \"min\": -0.14056260196915638,\n        \"max\": -0.14047258483140812,\n        \"num_unique_values\": 9,\n        \"samples\": [\n          -0.14051015430880343,\n          -0.1405133620448531,\n          -0.1405562029261489\n        ],\n        \"semantic_type\": \"\",\n        \"description\": \"\"\n      }\n    }\n  ]\n}"
            }
          },
          "metadata": {},
          "execution_count": 10
        }
      ],
      "source": [
        "# Converting previous bulk data into a DataFrame and merging with new DataFrame\n",
        "bulk_energies = pd.DataFrame({\"latt_param\": latt_params, \"E_LDA_b\": energies_si})\n",
        "bulk_energies = bulk_energies.merge(single_energies, on=\"latt_param\") # this makes sure we are not misaligning lattice parameters\n",
        "bulk_energies[\"E_LDA_diff\"] = bulk_energies[\"E_LDA_b\"] - bulk_energies[\"E_LDA_s\"]\n",
        "bulk_energies"
      ]
    },
    {
      "cell_type": "code",
      "execution_count": 11,
      "metadata": {
        "id": "J9HgTGZRuJXM",
        "outputId": "a410cb67-8dbd-49e3-8f2e-45e604a2eb70",
        "colab": {
          "base_uri": "https://localhost:8080/"
        }
      },
      "outputs": [
        {
          "output_type": "stream",
          "name": "stdout",
          "text": [
            "Min energy per Si -0.14056 ha\n",
            "Equilibrium volume per Si 42.95036 ang^3, which is at lattice parameter 5.559 ang.\n",
            "Bulk Modulus is 0.009 ha/ang^3, which is 39.22 GPa\n"
          ]
        }
      ],
      "source": [
        "# Now fitting to \"E_LDA_diff\", whose minimum is the cohesive energy estimate.\n",
        "init_guess = [bulk_energies[\"E_LDA_diff\"].iloc[n//2], v_si[n//2], 1, 1]\n",
        "opt_params, _ = curve_fit(birch_murnaghan_fit, v_si, bulk_energies[\"E_LDA_diff\"], p0=init_guess)\n",
        "print(\"Min energy per Si\", np.round(opt_params[0],5), \"ha\")\n",
        "print(\"Equilibrium volume per Si\", np.round(opt_params[1],5), \"ang^3, which is at lattice parameter\",\n",
        "      np.round((4.0*opt_params[1])**(1.0/3.0),3), \"ang.\")\n",
        "# See https://en.wikipedia.org/wiki/Hartree for unit convertion (ha to J, and then J/ang to Pa)\n",
        "print(\"Bulk Modulus is\", np.round(opt_params[2],5), \"ha/ang^3, which is\", np.round(opt_params[2]*4.3597447*10**3,2), \"GPa\")"
      ]
    },
    {
      "cell_type": "markdown",
      "metadata": {
        "id": "OdThc4KyuJXM"
      },
      "source": [
        "The bulk modulus and equilibrium lattice parameter have not been affected by much (but might be in other cases). The cohesive energy estimate is -0.1406 ha.\n",
        "\n",
        "Note that this was all at zero temperature. Temperature effects have been ignored."
      ]
    },
    {
      "cell_type": "code",
      "execution_count": 11,
      "metadata": {
        "id": "juJ_MArcuJXM"
      },
      "outputs": [],
      "source": []
    }
  ],
  "metadata": {
    "colab": {
      "name": "04_Energy_vs_Lattice_Constant.ipynb",
      "provenance": [],
      "include_colab_link": true
    },
    "kernelspec": {
      "display_name": "Python 3 (ipykernel)",
      "language": "python",
      "name": "python3"
    },
    "language_info": {
      "codemirror_mode": {
        "name": "ipython",
        "version": 3
      },
      "file_extension": ".py",
      "mimetype": "text/x-python",
      "name": "python",
      "nbconvert_exporter": "python",
      "pygments_lexer": "ipython3"
    }
  },
  "nbformat": 4,
  "nbformat_minor": 0
}